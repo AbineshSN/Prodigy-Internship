{
 "cells": [
  {
   "cell_type": "markdown",
   "id": "eb4e6233-234d-4585-87ce-a75ef3559c4f",
   "metadata": {},
   "source": [
    "# Import Libraries and Load Dataset"
   ]
  },
  {
   "cell_type": "code",
   "execution_count": 1,
   "id": "459e96ad-9126-46c4-951f-370e30e07f79",
   "metadata": {},
   "outputs": [
    {
     "data": {
      "text/html": [
       "<div>\n",
       "<style scoped>\n",
       "    .dataframe tbody tr th:only-of-type {\n",
       "        vertical-align: middle;\n",
       "    }\n",
       "\n",
       "    .dataframe tbody tr th {\n",
       "        vertical-align: top;\n",
       "    }\n",
       "\n",
       "    .dataframe thead th {\n",
       "        text-align: right;\n",
       "    }\n",
       "</style>\n",
       "<table border=\"1\" class=\"dataframe\">\n",
       "  <thead>\n",
       "    <tr style=\"text-align: right;\">\n",
       "      <th></th>\n",
       "      <th>ID</th>\n",
       "      <th>Brand</th>\n",
       "      <th>Sentiment</th>\n",
       "      <th>Content</th>\n",
       "    </tr>\n",
       "  </thead>\n",
       "  <tbody>\n",
       "    <tr>\n",
       "      <th>0</th>\n",
       "      <td>3364</td>\n",
       "      <td>Facebook</td>\n",
       "      <td>Irrelevant</td>\n",
       "      <td>I mentioned on Facebook that I was struggling ...</td>\n",
       "    </tr>\n",
       "    <tr>\n",
       "      <th>1</th>\n",
       "      <td>352</td>\n",
       "      <td>Amazon</td>\n",
       "      <td>Neutral</td>\n",
       "      <td>BBC News - Amazon boss Jeff Bezos rejects clai...</td>\n",
       "    </tr>\n",
       "    <tr>\n",
       "      <th>2</th>\n",
       "      <td>8312</td>\n",
       "      <td>Microsoft</td>\n",
       "      <td>Negative</td>\n",
       "      <td>@Microsoft Why do I pay for WORD when it funct...</td>\n",
       "    </tr>\n",
       "    <tr>\n",
       "      <th>3</th>\n",
       "      <td>4371</td>\n",
       "      <td>CS-GO</td>\n",
       "      <td>Negative</td>\n",
       "      <td>CSGO matchmaking is so full of closet hacking,...</td>\n",
       "    </tr>\n",
       "    <tr>\n",
       "      <th>4</th>\n",
       "      <td>4433</td>\n",
       "      <td>Google</td>\n",
       "      <td>Neutral</td>\n",
       "      <td>Now the President is slapping Americans in the...</td>\n",
       "    </tr>\n",
       "    <tr>\n",
       "      <th>...</th>\n",
       "      <td>...</td>\n",
       "      <td>...</td>\n",
       "      <td>...</td>\n",
       "      <td>...</td>\n",
       "    </tr>\n",
       "    <tr>\n",
       "      <th>995</th>\n",
       "      <td>4891</td>\n",
       "      <td>GrandTheftAuto(GTA)</td>\n",
       "      <td>Irrelevant</td>\n",
       "      <td>⭐️ Toronto is the arts and culture capital of ...</td>\n",
       "    </tr>\n",
       "    <tr>\n",
       "      <th>996</th>\n",
       "      <td>4359</td>\n",
       "      <td>CS-GO</td>\n",
       "      <td>Irrelevant</td>\n",
       "      <td>tHIS IS ACTUALLY A GOOD MOVE TOT BRING MORE VI...</td>\n",
       "    </tr>\n",
       "    <tr>\n",
       "      <th>997</th>\n",
       "      <td>2652</td>\n",
       "      <td>Borderlands</td>\n",
       "      <td>Positive</td>\n",
       "      <td>Today sucked so it’s time to drink wine n play...</td>\n",
       "    </tr>\n",
       "    <tr>\n",
       "      <th>998</th>\n",
       "      <td>8069</td>\n",
       "      <td>Microsoft</td>\n",
       "      <td>Positive</td>\n",
       "      <td>Bought a fraction of Microsoft today. Small wins.</td>\n",
       "    </tr>\n",
       "    <tr>\n",
       "      <th>999</th>\n",
       "      <td>6960</td>\n",
       "      <td>johnson&amp;johnson</td>\n",
       "      <td>Neutral</td>\n",
       "      <td>Johnson &amp; Johnson to stop selling talc baby po...</td>\n",
       "    </tr>\n",
       "  </tbody>\n",
       "</table>\n",
       "<p>1000 rows × 4 columns</p>\n",
       "</div>"
      ],
      "text/plain": [
       "       ID                Brand   Sentiment  \\\n",
       "0    3364             Facebook  Irrelevant   \n",
       "1     352               Amazon     Neutral   \n",
       "2    8312            Microsoft    Negative   \n",
       "3    4371                CS-GO    Negative   \n",
       "4    4433               Google     Neutral   \n",
       "..    ...                  ...         ...   \n",
       "995  4891  GrandTheftAuto(GTA)  Irrelevant   \n",
       "996  4359                CS-GO  Irrelevant   \n",
       "997  2652          Borderlands    Positive   \n",
       "998  8069            Microsoft    Positive   \n",
       "999  6960      johnson&johnson     Neutral   \n",
       "\n",
       "                                               Content  \n",
       "0    I mentioned on Facebook that I was struggling ...  \n",
       "1    BBC News - Amazon boss Jeff Bezos rejects clai...  \n",
       "2    @Microsoft Why do I pay for WORD when it funct...  \n",
       "3    CSGO matchmaking is so full of closet hacking,...  \n",
       "4    Now the President is slapping Americans in the...  \n",
       "..                                                 ...  \n",
       "995  ⭐️ Toronto is the arts and culture capital of ...  \n",
       "996  tHIS IS ACTUALLY A GOOD MOVE TOT BRING MORE VI...  \n",
       "997  Today sucked so it’s time to drink wine n play...  \n",
       "998  Bought a fraction of Microsoft today. Small wins.  \n",
       "999  Johnson & Johnson to stop selling talc baby po...  \n",
       "\n",
       "[1000 rows x 4 columns]"
      ]
     },
     "execution_count": 1,
     "metadata": {},
     "output_type": "execute_result"
    }
   ],
   "source": [
    "import plotly.express as px\n",
    "import pandas as pd\n",
    "import matplotlib.pyplot as plt\n",
    "import seaborn as sns\n",
    "\n",
    "df = pd.read_csv(\"twitter_validation.csv\",header=None)\n",
    "df.columns = ['ID', 'Brand', 'Sentiment', 'Content']\n",
    "df"
   ]
  },
  {
   "cell_type": "markdown",
   "id": "528f7996-bc8d-4397-b4f5-2c86726626b1",
   "metadata": {},
   "source": [
    "# Explore the Dataset"
   ]
  },
  {
   "cell_type": "code",
   "execution_count": 2,
   "id": "ba0241f4-cecc-404f-9f94-29a3ce703546",
   "metadata": {},
   "outputs": [
    {
     "data": {
      "text/plain": [
       "ID           0\n",
       "Brand        0\n",
       "Sentiment    0\n",
       "Content      0\n",
       "dtype: int64"
      ]
     },
     "execution_count": 2,
     "metadata": {},
     "output_type": "execute_result"
    }
   ],
   "source": [
    "df.isnull().sum()"
   ]
  },
  {
   "cell_type": "code",
   "execution_count": 3,
   "id": "d8fb986d-9f70-4d6a-aaf5-6bb69a0a48e2",
   "metadata": {},
   "outputs": [
    {
     "name": "stdout",
     "output_type": "stream",
     "text": [
      "['Irrelevant' 'Neutral' 'Negative' 'Positive']\n"
     ]
    }
   ],
   "source": [
    "print(df['Sentiment'].unique())"
   ]
  },
  {
   "cell_type": "code",
   "execution_count": 4,
   "id": "1bc4676c-778a-4e00-aba4-1583dc780e4f",
   "metadata": {},
   "outputs": [
    {
     "name": "stdout",
     "output_type": "stream",
     "text": [
      "['Facebook' 'Amazon' 'Microsoft' 'CS-GO' 'Google' 'FIFA' 'MaddenNFL'\n",
      " 'TomClancysRainbowSix' 'AssassinsCreed' 'CallOfDuty' 'Dota2' 'Verizon'\n",
      " 'NBA2K' 'Nvidia' 'GrandTheftAuto(GTA)' 'RedDeadRedemption(RDR)'\n",
      " 'Hearthstone' 'ApexLegends' 'Overwatch'\n",
      " 'PlayerUnknownsBattlegrounds(PUBG)' 'Borderlands' 'PlayStation5(PS5)'\n",
      " 'johnson&johnson' 'Fortnite' 'Xbox(Xseries)' 'CallOfDutyBlackopsColdWar'\n",
      " 'HomeDepot' 'Cyberpunk2077' 'TomClancysGhostRecon' 'WorldOfCraft'\n",
      " 'LeagueOfLegends' 'Battlefield']\n"
     ]
    }
   ],
   "source": [
    "print(df['Brand'].unique())"
   ]
  },
  {
   "cell_type": "markdown",
   "id": "06345ceb-dea7-4e30-b7db-05d78e7f0460",
   "metadata": {},
   "source": [
    "# Visualization"
   ]
  },
  {
   "cell_type": "markdown",
   "id": "b2d7f0ae-95af-4cf2-942e-780cfa457e02",
   "metadata": {},
   "source": [
    "## Analyze Sentiment Distribution"
   ]
  },
  {
   "cell_type": "code",
   "execution_count": 5,
   "id": "74c60b02-2e18-4a71-b023-9fcffe4c1ef4",
   "metadata": {},
   "outputs": [
    {
     "data": {
      "image/png": "[encoded data removed]",
      "text/plain": [
       "<Figure size 800x600 with 1 Axes>"
      ]
     },
     "metadata": {},
     "output_type": "display_data"
    }
   ],
   "source": [
    "# Countplot of Sentiment distribution\n",
    "plt.figure(figsize=(8, 6))\n",
    "sns.countplot(x='Sentiment', data=df, palette='viridis')\n",
    "plt.title('Sentiment Distribution')\n",
    "plt.xlabel('Sentiment')\n",
    "plt.ylabel('Count')\n",
    "plt.show()"
   ]
  },
  {
   "cell_type": "markdown",
   "id": "69f5c997-05b3-4339-9d0d-314d952fb07e",
   "metadata": {},
   "source": [
    "## Analyze Sentiment by Brand"
   ]
  },
  {
   "cell_type": "code",
   "execution_count": 12,
   "id": "58ef6932-78cc-4b5d-a33a-cd1cd5be727a",
   "metadata": {},
   "outputs": [
    {
     "data": {
      "application/vnd.plotly.v1+json": {
       "config": {
        "plotlyServerURL": "https://plot.ly"
       },
       "data": [
        {
         "alignmentgroup": "True",
         "bingroup": "x",
         "histfunc": "count",
         "hovertemplate": "Sentiment=Irrelevant<br>Brand=%{x}<br>count=%{y}<extra></extra>",
         "legendgroup": "Irrelevant",
         "marker": {
          "color": "#ab63fa",
          "pattern": {
           "shape": ""
          }
         },
         "name": "Irrelevant",
         "offsetgroup": "Irrelevant",
         "orientation": "v",
         "showlegend": true,
         "type": "histogram",
         "x": [
          "Facebook",
          "CallOfDuty",
          "Overwatch",
          "PlayerUnknownsBattlegrounds(PUBG)",
          "Xbox(Xseries)",
          "TomClancysRainbowSix",
          "Cyberpunk2077",
          "CallOfDuty",
          "Amazon",
          "Overwatch",
          "PlayerUnknownsBattlegrounds(PUBG)",
          "ApexLegends",
          "CallOfDuty",
          "LeagueOfLegends",
          "FIFA",
          "Xbox(Xseries)",
          "CallOfDutyBlackopsColdWar",
          "Fortnite",
          "PlayerUnknownsBattlegrounds(PUBG)",
          "CallOfDuty",
          "Cyberpunk2077",
          "PlayerUnknownsBattlegrounds(PUBG)",
          "Fortnite",
          "Battlefield",
          "Overwatch",
          "Fortnite",
          "Google",
          "Hearthstone",
          "Battlefield",
          "Cyberpunk2077",
          "johnson&johnson",
          "Overwatch",
          "Battlefield",
          "Fortnite",
          "CS-GO",
          "LeagueOfLegends",
          "Hearthstone",
          "FIFA",
          "Amazon",
          "Facebook",
          "CallOfDutyBlackopsColdWar",
          "Cyberpunk2077",
          "Google",
          "FIFA",
          "PlayerUnknownsBattlegrounds(PUBG)",
          "CallOfDutyBlackopsColdWar",
          "HomeDepot",
          "MaddenNFL",
          "PlayerUnknownsBattlegrounds(PUBG)",
          "Borderlands",
          "Overwatch",
          "Fortnite",
          "Fortnite",
          "LeagueOfLegends",
          "WorldOfCraft",
          "Cyberpunk2077",
          "Fortnite",
          "Battlefield",
          "Facebook",
          "RedDeadRedemption(RDR)",
          "CS-GO",
          "CS-GO",
          "Facebook",
          "GrandTheftAuto(GTA)",
          "ApexLegends",
          "PlayerUnknownsBattlegrounds(PUBG)",
          "WorldOfCraft",
          "Cyberpunk2077",
          "Battlefield",
          "CallOfDuty",
          "ApexLegends",
          "WorldOfCraft",
          "Overwatch",
          "Nvidia",
          "Battlefield",
          "WorldOfCraft",
          "Cyberpunk2077",
          "johnson&johnson",
          "Xbox(Xseries)",
          "PlayerUnknownsBattlegrounds(PUBG)",
          "GrandTheftAuto(GTA)",
          "GrandTheftAuto(GTA)",
          "Xbox(Xseries)",
          "RedDeadRedemption(RDR)",
          "Borderlands",
          "FIFA",
          "CallOfDuty",
          "CallOfDutyBlackopsColdWar",
          "Battlefield",
          "Battlefield",
          "Fortnite",
          "CallOfDuty",
          "Overwatch",
          "Nvidia",
          "Fortnite",
          "CS-GO",
          "CallOfDuty",
          "CS-GO",
          "Facebook",
          "Xbox(Xseries)",
          "LeagueOfLegends",
          "Google",
          "FIFA",
          "Fortnite",
          "Battlefield",
          "PlayerUnknownsBattlegrounds(PUBG)",
          "Xbox(Xseries)",
          "Fortnite",
          "CallOfDuty",
          "FIFA",
          "CS-GO",
          "PlayerUnknownsBattlegrounds(PUBG)",
          "GrandTheftAuto(GTA)",
          "CS-GO",
          "AssassinsCreed",
          "CallOfDutyBlackopsColdWar",
          "Google",
          "Overwatch",
          "Amazon",
          "Facebook",
          "PlayerUnknownsBattlegrounds(PUBG)",
          "GrandTheftAuto(GTA)",
          "Cyberpunk2077",
          "Fortnite",
          "Verizon",
          "HomeDepot",
          "CallOfDuty",
          "Fortnite",
          "Xbox(Xseries)",
          "PlayStation5(PS5)",
          "Xbox(Xseries)",
          "Facebook",
          "Dota2",
          "LeagueOfLegends",
          "PlayerUnknownsBattlegrounds(PUBG)",
          "Xbox(Xseries)",
          "Battlefield",
          "Battlefield",
          "Google",
          "CallOfDutyBlackopsColdWar",
          "Overwatch",
          "WorldOfCraft",
          "PlayerUnknownsBattlegrounds(PUBG)",
          "LeagueOfLegends",
          "Facebook",
          "CallOfDuty",
          "Fortnite",
          "Xbox(Xseries)",
          "GrandTheftAuto(GTA)",
          "Battlefield",
          "PlayStation5(PS5)",
          "johnson&johnson",
          "GrandTheftAuto(GTA)",
          "WorldOfCraft",
          "Facebook",
          "FIFA",
          "CallOfDutyBlackopsColdWar",
          "WorldOfCraft",
          "Xbox(Xseries)",
          "Verizon",
          "FIFA",
          "Fortnite",
          "CallOfDutyBlackopsColdWar",
          "Microsoft",
          "PlayerUnknownsBattlegrounds(PUBG)",
          "FIFA",
          "FIFA",
          "Xbox(Xseries)",
          "PlayerUnknownsBattlegrounds(PUBG)",
          "GrandTheftAuto(GTA)",
          "GrandTheftAuto(GTA)",
          "CS-GO"
         ],
         "xaxis": "x",
         "yaxis": "y"
        },
        {
         "alignmentgroup": "True",
         "bingroup": "x",
         "histfunc": "count",
         "hovertemplate": "Sentiment=Neutral<br>Brand=%{x}<br>count=%{y}<extra></extra>",
         "legendgroup": "Neutral",
         "marker": {
          "color": "#FFA15A",
          "pattern": {
           "shape": ""
          }
         },
         "name": "Neutral",
         "offsetgroup": "Neutral",
         "orientation": "v",
         "showlegend": true,
         "type": "histogram",
         "x": [
          "Amazon",
          "Google",
          "CS-GO",
          "Hearthstone",
          "ApexLegends",
          "Nvidia",
          "CallOfDuty",
          "RedDeadRedemption(RDR)",
          "TomClancysRainbowSix",
          "Overwatch",
          "CallOfDuty",
          "Amazon",
          "TomClancysRainbowSix",
          "Xbox(Xseries)",
          "johnson&johnson",
          "CallOfDutyBlackopsColdWar",
          "CallOfDuty",
          "Google",
          "Microsoft",
          "WorldOfCraft",
          "CS-GO",
          "TomClancysGhostRecon",
          "Hearthstone",
          "Facebook",
          "Verizon",
          "ApexLegends",
          "CallOfDutyBlackopsColdWar",
          "RedDeadRedemption(RDR)",
          "PlayerUnknownsBattlegrounds(PUBG)",
          "Hearthstone",
          "Facebook",
          "GrandTheftAuto(GTA)",
          "Nvidia",
          "Dota2",
          "Borderlands",
          "Nvidia",
          "LeagueOfLegends",
          "PlayerUnknownsBattlegrounds(PUBG)",
          "LeagueOfLegends",
          "CS-GO",
          "Dota2",
          "Hearthstone",
          "Microsoft",
          "FIFA",
          "Amazon",
          "TomClancysRainbowSix",
          "WorldOfCraft",
          "ApexLegends",
          "WorldOfCraft",
          "johnson&johnson",
          "Facebook",
          "LeagueOfLegends",
          "CS-GO",
          "GrandTheftAuto(GTA)",
          "RedDeadRedemption(RDR)",
          "TomClancysRainbowSix",
          "johnson&johnson",
          "HomeDepot",
          "ApexLegends",
          "GrandTheftAuto(GTA)",
          "johnson&johnson",
          "RedDeadRedemption(RDR)",
          "WorldOfCraft",
          "Dota2",
          "TomClancysGhostRecon",
          "johnson&johnson",
          "ApexLegends",
          "ApexLegends",
          "WorldOfCraft",
          "Google",
          "CS-GO",
          "ApexLegends",
          "ApexLegends",
          "Facebook",
          "johnson&johnson",
          "johnson&johnson",
          "johnson&johnson",
          "ApexLegends",
          "Battlefield",
          "ApexLegends",
          "Verizon",
          "Facebook",
          "CallOfDuty",
          "LeagueOfLegends",
          "TomClancysRainbowSix",
          "NBA2K",
          "Hearthstone",
          "Amazon",
          "Microsoft",
          "Dota2",
          "RedDeadRedemption(RDR)",
          "Nvidia",
          "TomClancysRainbowSix",
          "ApexLegends",
          "Microsoft",
          "Dota2",
          "AssassinsCreed",
          "Nvidia",
          "RedDeadRedemption(RDR)",
          "Xbox(Xseries)",
          "Borderlands",
          "PlayerUnknownsBattlegrounds(PUBG)",
          "Facebook",
          "PlayStation5(PS5)",
          "GrandTheftAuto(GTA)",
          "RedDeadRedemption(RDR)",
          "Hearthstone",
          "Facebook",
          "Fortnite",
          "LeagueOfLegends",
          "Borderlands",
          "Nvidia",
          "CS-GO",
          "Hearthstone",
          "Nvidia",
          "Amazon",
          "MaddenNFL",
          "WorldOfCraft",
          "Borderlands",
          "Borderlands",
          "Facebook",
          "WorldOfCraft",
          "GrandTheftAuto(GTA)",
          "RedDeadRedemption(RDR)",
          "Dota2",
          "PlayerUnknownsBattlegrounds(PUBG)",
          "WorldOfCraft",
          "NBA2K",
          "LeagueOfLegends",
          "WorldOfCraft",
          "TomClancysRainbowSix",
          "NBA2K",
          "johnson&johnson",
          "CS-GO",
          "Amazon",
          "Dota2",
          "johnson&johnson",
          "Battlefield",
          "Amazon",
          "Nvidia",
          "Dota2",
          "TomClancysRainbowSix",
          "Nvidia",
          "Hearthstone",
          "Cyberpunk2077",
          "johnson&johnson",
          "Cyberpunk2077",
          "PlayStation5(PS5)",
          "TomClancysRainbowSix",
          "HomeDepot",
          "Microsoft",
          "Nvidia",
          "MaddenNFL",
          "ApexLegends",
          "AssassinsCreed",
          "TomClancysGhostRecon",
          "CS-GO",
          "TomClancysGhostRecon",
          "WorldOfCraft",
          "TomClancysGhostRecon",
          "LeagueOfLegends",
          "LeagueOfLegends",
          "johnson&johnson",
          "Dota2",
          "WorldOfCraft",
          "Borderlands",
          "Borderlands",
          "Battlefield",
          "Hearthstone",
          "TomClancysRainbowSix",
          "RedDeadRedemption(RDR)",
          "PlayStation5(PS5)",
          "Xbox(Xseries)",
          "ApexLegends",
          "Amazon",
          "Dota2",
          "FIFA",
          "CallOfDuty",
          "Facebook",
          "Cyberpunk2077",
          "PlayStation5(PS5)",
          "johnson&johnson",
          "WorldOfCraft",
          "FIFA",
          "Nvidia",
          "CallOfDutyBlackopsColdWar",
          "Borderlands",
          "Amazon",
          "Amazon",
          "LeagueOfLegends",
          "Nvidia",
          "LeagueOfLegends",
          "PlayStation5(PS5)",
          "Microsoft",
          "Facebook",
          "PlayStation5(PS5)",
          "TomClancysRainbowSix",
          "CS-GO",
          "johnson&johnson",
          "Verizon",
          "WorldOfCraft",
          "Amazon",
          "Verizon",
          "Battlefield",
          "TomClancysGhostRecon",
          "Nvidia",
          "johnson&johnson",
          "RedDeadRedemption(RDR)",
          "ApexLegends",
          "AssassinsCreed",
          "johnson&johnson",
          "CallOfDutyBlackopsColdWar",
          "HomeDepot",
          "AssassinsCreed",
          "Dota2",
          "Amazon",
          "CS-GO",
          "Borderlands",
          "Google",
          "Facebook",
          "HomeDepot",
          "TomClancysRainbowSix",
          "RedDeadRedemption(RDR)",
          "Amazon",
          "LeagueOfLegends",
          "ApexLegends",
          "HomeDepot",
          "PlayStation5(PS5)",
          "LeagueOfLegends",
          "PlayStation5(PS5)",
          "LeagueOfLegends",
          "FIFA",
          "Overwatch",
          "Amazon",
          "Overwatch",
          "Google",
          "WorldOfCraft",
          "CallOfDutyBlackopsColdWar",
          "Verizon",
          "ApexLegends",
          "CallOfDutyBlackopsColdWar",
          "Borderlands",
          "johnson&johnson",
          "Facebook",
          "Amazon",
          "Verizon",
          "johnson&johnson",
          "CS-GO",
          "RedDeadRedemption(RDR)",
          "CS-GO",
          "PlayStation5(PS5)",
          "RedDeadRedemption(RDR)",
          "Verizon",
          "Nvidia",
          "Google",
          "GrandTheftAuto(GTA)",
          "RedDeadRedemption(RDR)",
          "Facebook",
          "Hearthstone",
          "ApexLegends",
          "Verizon",
          "Verizon",
          "Nvidia",
          "WorldOfCraft",
          "TomClancysGhostRecon",
          "Borderlands",
          "Borderlands",
          "Verizon",
          "RedDeadRedemption(RDR)",
          "Overwatch",
          "Google",
          "TomClancysRainbowSix",
          "Amazon",
          "CallOfDuty",
          "Cyberpunk2077",
          "RedDeadRedemption(RDR)",
          "Amazon",
          "Amazon",
          "CS-GO",
          "RedDeadRedemption(RDR)",
          "Google",
          "RedDeadRedemption(RDR)",
          "LeagueOfLegends",
          "CallOfDuty",
          "johnson&johnson"
         ],
         "xaxis": "x",
         "yaxis": "y"
        },
        {
         "alignmentgroup": "True",
         "bingroup": "x",
         "histfunc": "count",
         "hovertemplate": "Sentiment=Negative<br>Brand=%{x}<br>count=%{y}<extra></extra>",
         "legendgroup": "Negative",
         "marker": {
          "color": "#19d3f3",
          "pattern": {
           "shape": ""
          }
         },
         "name": "Negative",
         "offsetgroup": "Negative",
         "orientation": "v",
         "showlegend": true,
         "type": "histogram",
         "x": [
          "Microsoft",
          "CS-GO",
          "FIFA",
          "CallOfDuty",
          "Verizon",
          "NBA2K",
          "Dota2",
          "Microsoft",
          "CallOfDuty",
          "CS-GO",
          "Verizon",
          "Borderlands",
          "johnson&johnson",
          "Fortnite",
          "Hearthstone",
          "johnson&johnson",
          "CallOfDuty",
          "PlayerUnknownsBattlegrounds(PUBG)",
          "FIFA",
          "CallOfDuty",
          "Verizon",
          "NBA2K",
          "PlayerUnknownsBattlegrounds(PUBG)",
          "MaddenNFL",
          "johnson&johnson",
          "PlayStation5(PS5)",
          "GrandTheftAuto(GTA)",
          "Hearthstone",
          "Facebook",
          "Overwatch",
          "Verizon",
          "Battlefield",
          "TomClancysGhostRecon",
          "PlayerUnknownsBattlegrounds(PUBG)",
          "Facebook",
          "Verizon",
          "Dota2",
          "Google",
          "CallOfDutyBlackopsColdWar",
          "NBA2K",
          "CallOfDutyBlackopsColdWar",
          "Dota2",
          "ApexLegends",
          "NBA2K",
          "LeagueOfLegends",
          "TomClancysRainbowSix",
          "Microsoft",
          "NBA2K",
          "Fortnite",
          "FIFA",
          "TomClancysRainbowSix",
          "Verizon",
          "MaddenNFL",
          "NBA2K",
          "AssassinsCreed",
          "TomClancysRainbowSix",
          "Amazon",
          "johnson&johnson",
          "RedDeadRedemption(RDR)",
          "GrandTheftAuto(GTA)",
          "Borderlands",
          "Facebook",
          "Google",
          "MaddenNFL",
          "johnson&johnson",
          "Dota2",
          "GrandTheftAuto(GTA)",
          "ApexLegends",
          "HomeDepot",
          "johnson&johnson",
          "Facebook",
          "Overwatch",
          "Fortnite",
          "FIFA",
          "Battlefield",
          "WorldOfCraft",
          "FIFA",
          "Dota2",
          "Nvidia",
          "Dota2",
          "NBA2K",
          "Borderlands",
          "Overwatch",
          "Overwatch",
          "PlayerUnknownsBattlegrounds(PUBG)",
          "Battlefield",
          "TomClancysGhostRecon",
          "LeagueOfLegends",
          "NBA2K",
          "NBA2K",
          "Verizon",
          "AssassinsCreed",
          "LeagueOfLegends",
          "NBA2K",
          "Facebook",
          "Verizon",
          "LeagueOfLegends",
          "FIFA",
          "Facebook",
          "PlayStation5(PS5)",
          "Hearthstone",
          "Fortnite",
          "PlayerUnknownsBattlegrounds(PUBG)",
          "Overwatch",
          "MaddenNFL",
          "FIFA",
          "TomClancysGhostRecon",
          "TomClancysGhostRecon",
          "Microsoft",
          "TomClancysRainbowSix",
          "Battlefield",
          "Hearthstone",
          "Overwatch",
          "TomClancysGhostRecon",
          "Fortnite",
          "HomeDepot",
          "CallOfDuty",
          "Borderlands",
          "Overwatch",
          "Fortnite",
          "Google",
          "Nvidia",
          "TomClancysRainbowSix",
          "johnson&johnson",
          "Fortnite",
          "PlayStation5(PS5)",
          "Hearthstone",
          "MaddenNFL",
          "johnson&johnson",
          "PlayerUnknownsBattlegrounds(PUBG)",
          "Verizon",
          "FIFA",
          "CallOfDuty",
          "MaddenNFL",
          "FIFA",
          "FIFA",
          "Google",
          "TomClancysGhostRecon",
          "Amazon",
          "FIFA",
          "MaddenNFL",
          "MaddenNFL",
          "NBA2K",
          "GrandTheftAuto(GTA)",
          "Overwatch",
          "ApexLegends",
          "MaddenNFL",
          "Xbox(Xseries)",
          "johnson&johnson",
          "TomClancysRainbowSix",
          "HomeDepot",
          "ApexLegends",
          "Nvidia",
          "Facebook",
          "LeagueOfLegends",
          "NBA2K",
          "Nvidia",
          "NBA2K",
          "MaddenNFL",
          "GrandTheftAuto(GTA)",
          "Dota2",
          "MaddenNFL",
          "RedDeadRedemption(RDR)",
          "Fortnite",
          "Fortnite",
          "Xbox(Xseries)",
          "Hearthstone",
          "Verizon",
          "CallOfDuty",
          "Overwatch",
          "Overwatch",
          "ApexLegends",
          "johnson&johnson",
          "Hearthstone",
          "PlayStation5(PS5)",
          "Nvidia",
          "MaddenNFL",
          "TomClancysGhostRecon",
          "PlayStation5(PS5)",
          "johnson&johnson",
          "Amazon",
          "RedDeadRedemption(RDR)",
          "TomClancysGhostRecon",
          "MaddenNFL",
          "PlayerUnknownsBattlegrounds(PUBG)",
          "NBA2K",
          "Amazon",
          "GrandTheftAuto(GTA)",
          "PlayStation5(PS5)",
          "LeagueOfLegends",
          "Hearthstone",
          "PlayerUnknownsBattlegrounds(PUBG)",
          "AssassinsCreed",
          "HomeDepot",
          "Hearthstone",
          "Battlefield",
          "GrandTheftAuto(GTA)",
          "Verizon",
          "Fortnite",
          "Nvidia",
          "Microsoft",
          "PlayerUnknownsBattlegrounds(PUBG)",
          "TomClancysRainbowSix",
          "FIFA",
          "ApexLegends",
          "GrandTheftAuto(GTA)",
          "Fortnite",
          "RedDeadRedemption(RDR)",
          "HomeDepot",
          "Verizon",
          "NBA2K",
          "Google",
          "AssassinsCreed",
          "TomClancysGhostRecon",
          "Nvidia",
          "Google",
          "Borderlands",
          "MaddenNFL",
          "Google",
          "RedDeadRedemption(RDR)",
          "NBA2K",
          "MaddenNFL",
          "CallOfDutyBlackopsColdWar",
          "HomeDepot",
          "PlayerUnknownsBattlegrounds(PUBG)",
          "Hearthstone",
          "Fortnite",
          "TomClancysGhostRecon",
          "LeagueOfLegends",
          "Xbox(Xseries)",
          "CallOfDuty",
          "PlayStation5(PS5)",
          "Battlefield",
          "TomClancysGhostRecon",
          "LeagueOfLegends",
          "Amazon",
          "Fortnite",
          "Overwatch",
          "TomClancysRainbowSix",
          "MaddenNFL",
          "MaddenNFL",
          "GrandTheftAuto(GTA)",
          "HomeDepot",
          "FIFA",
          "Nvidia",
          "johnson&johnson",
          "FIFA",
          "Microsoft",
          "Cyberpunk2077",
          "johnson&johnson",
          "Xbox(Xseries)",
          "FIFA",
          "Facebook",
          "MaddenNFL",
          "TomClancysGhostRecon",
          "HomeDepot",
          "NBA2K",
          "FIFA",
          "Google",
          "Verizon",
          "Microsoft",
          "TomClancysRainbowSix",
          "Overwatch",
          "Dota2",
          "Battlefield",
          "Amazon"
         ],
         "xaxis": "x",
         "yaxis": "y"
        },
        {
         "alignmentgroup": "True",
         "bingroup": "x",
         "histfunc": "count",
         "hovertemplate": "Sentiment=Positive<br>Brand=%{x}<br>count=%{y}<extra></extra>",
         "legendgroup": "Positive",
         "marker": {
          "color": "#FF6692",
          "pattern": {
           "shape": ""
          }
         },
         "name": "Positive",
         "offsetgroup": "Positive",
         "orientation": "v",
         "showlegend": true,
         "type": "histogram",
         "x": [
          "MaddenNFL",
          "TomClancysRainbowSix",
          "AssassinsCreed",
          "Dota2",
          "AssassinsCreed",
          "Nvidia",
          "GrandTheftAuto(GTA)",
          "RedDeadRedemption(RDR)",
          "Nvidia",
          "PlayStation5(PS5)",
          "Nvidia",
          "AssassinsCreed",
          "CallOfDuty",
          "CallOfDutyBlackopsColdWar",
          "Overwatch",
          "FIFA",
          "Facebook",
          "HomeDepot",
          "CallOfDutyBlackopsColdWar",
          "NBA2K",
          "AssassinsCreed",
          "TomClancysRainbowSix",
          "TomClancysGhostRecon",
          "Microsoft",
          "AssassinsCreed",
          "PlayStation5(PS5)",
          "CS-GO",
          "AssassinsCreed",
          "LeagueOfLegends",
          "Cyberpunk2077",
          "Microsoft",
          "Cyberpunk2077",
          "Nvidia",
          "ApexLegends",
          "PlayStation5(PS5)",
          "Amazon",
          "TomClancysRainbowSix",
          "Cyberpunk2077",
          "RedDeadRedemption(RDR)",
          "CallOfDutyBlackopsColdWar",
          "PlayStation5(PS5)",
          "LeagueOfLegends",
          "TomClancysGhostRecon",
          "Borderlands",
          "PlayerUnknownsBattlegrounds(PUBG)",
          "Verizon",
          "Borderlands",
          "TomClancysRainbowSix",
          "GrandTheftAuto(GTA)",
          "Overwatch",
          "Cyberpunk2077",
          "RedDeadRedemption(RDR)",
          "PlayStation5(PS5)",
          "RedDeadRedemption(RDR)",
          "Borderlands",
          "AssassinsCreed",
          "MaddenNFL",
          "Google",
          "Dota2",
          "PlayerUnknownsBattlegrounds(PUBG)",
          "PlayerUnknownsBattlegrounds(PUBG)",
          "LeagueOfLegends",
          "Overwatch",
          "Facebook",
          "Microsoft",
          "LeagueOfLegends",
          "johnson&johnson",
          "WorldOfCraft",
          "RedDeadRedemption(RDR)",
          "CallOfDuty",
          "AssassinsCreed",
          "AssassinsCreed",
          "AssassinsCreed",
          "Verizon",
          "PlayStation5(PS5)",
          "johnson&johnson",
          "Borderlands",
          "Xbox(Xseries)",
          "Cyberpunk2077",
          "RedDeadRedemption(RDR)",
          "TomClancysRainbowSix",
          "Xbox(Xseries)",
          "Microsoft",
          "AssassinsCreed",
          "Microsoft",
          "Dota2",
          "GrandTheftAuto(GTA)",
          "TomClancysRainbowSix",
          "Google",
          "FIFA",
          "PlayStation5(PS5)",
          "Xbox(Xseries)",
          "Cyberpunk2077",
          "CS-GO",
          "Facebook",
          "RedDeadRedemption(RDR)",
          "LeagueOfLegends",
          "CallOfDutyBlackopsColdWar",
          "FIFA",
          "Dota2",
          "Nvidia",
          "Hearthstone",
          "CS-GO",
          "GrandTheftAuto(GTA)",
          "PlayerUnknownsBattlegrounds(PUBG)",
          "Hearthstone",
          "Google",
          "PlayStation5(PS5)",
          "RedDeadRedemption(RDR)",
          "Microsoft",
          "PlayStation5(PS5)",
          "Cyberpunk2077",
          "PlayerUnknownsBattlegrounds(PUBG)",
          "Fortnite",
          "Nvidia",
          "Nvidia",
          "CallOfDutyBlackopsColdWar",
          "TomClancysGhostRecon",
          "Battlefield",
          "Hearthstone",
          "johnson&johnson",
          "Microsoft",
          "Hearthstone",
          "Amazon",
          "WorldOfCraft",
          "LeagueOfLegends",
          "CS-GO",
          "Microsoft",
          "AssassinsCreed",
          "MaddenNFL",
          "Overwatch",
          "ApexLegends",
          "Nvidia",
          "Dota2",
          "CS-GO",
          "ApexLegends",
          "WorldOfCraft",
          "Borderlands",
          "Fortnite",
          "Microsoft",
          "AssassinsCreed",
          "MaddenNFL",
          "GrandTheftAuto(GTA)",
          "Xbox(Xseries)",
          "Microsoft",
          "FIFA",
          "Microsoft",
          "Cyberpunk2077",
          "RedDeadRedemption(RDR)",
          "Cyberpunk2077",
          "ApexLegends",
          "Cyberpunk2077",
          "Verizon",
          "CS-GO",
          "RedDeadRedemption(RDR)",
          "GrandTheftAuto(GTA)",
          "Cyberpunk2077",
          "AssassinsCreed",
          "Verizon",
          "CallOfDutyBlackopsColdWar",
          "Microsoft",
          "Borderlands",
          "LeagueOfLegends",
          "Borderlands",
          "Borderlands",
          "Nvidia",
          "TomClancysRainbowSix",
          "Amazon",
          "WorldOfCraft",
          "MaddenNFL",
          "Fortnite",
          "ApexLegends",
          "AssassinsCreed",
          "Cyberpunk2077",
          "Borderlands",
          "AssassinsCreed",
          "PlayerUnknownsBattlegrounds(PUBG)",
          "Nvidia",
          "WorldOfCraft",
          "Verizon",
          "RedDeadRedemption(RDR)",
          "TomClancysRainbowSix",
          "AssassinsCreed",
          "AssassinsCreed",
          "ApexLegends",
          "johnson&johnson",
          "Hearthstone",
          "Amazon",
          "Microsoft",
          "TomClancysRainbowSix",
          "CallOfDutyBlackopsColdWar",
          "ApexLegends",
          "GrandTheftAuto(GTA)",
          "MaddenNFL",
          "WorldOfCraft",
          "GrandTheftAuto(GTA)",
          "GrandTheftAuto(GTA)",
          "TomClancysRainbowSix",
          "PlayerUnknownsBattlegrounds(PUBG)",
          "Amazon",
          "CallOfDuty",
          "Cyberpunk2077",
          "AssassinsCreed",
          "FIFA",
          "CS-GO",
          "PlayStation5(PS5)",
          "Overwatch",
          "FIFA",
          "Overwatch",
          "RedDeadRedemption(RDR)",
          "Verizon",
          "CallOfDutyBlackopsColdWar",
          "Borderlands",
          "FIFA",
          "AssassinsCreed",
          "CallOfDutyBlackopsColdWar",
          "Cyberpunk2077",
          "HomeDepot",
          "AssassinsCreed",
          "ApexLegends",
          "Xbox(Xseries)",
          "Xbox(Xseries)",
          "Xbox(Xseries)",
          "RedDeadRedemption(RDR)",
          "ApexLegends",
          "Borderlands",
          "Fortnite",
          "AssassinsCreed",
          "Hearthstone",
          "FIFA",
          "Hearthstone",
          "Amazon",
          "PlayStation5(PS5)",
          "PlayStation5(PS5)",
          "Battlefield",
          "Hearthstone",
          "TomClancysRainbowSix",
          "RedDeadRedemption(RDR)",
          "RedDeadRedemption(RDR)",
          "PlayerUnknownsBattlegrounds(PUBG)",
          "MaddenNFL",
          "PlayerUnknownsBattlegrounds(PUBG)",
          "Hearthstone",
          "CallOfDuty",
          "Cyberpunk2077",
          "Verizon",
          "Cyberpunk2077",
          "PlayStation5(PS5)",
          "MaddenNFL",
          "AssassinsCreed",
          "AssassinsCreed",
          "GrandTheftAuto(GTA)",
          "ApexLegends",
          "LeagueOfLegends",
          "Overwatch",
          "LeagueOfLegends",
          "GrandTheftAuto(GTA)",
          "Fortnite",
          "CS-GO",
          "CallOfDutyBlackopsColdWar",
          "PlayStation5(PS5)",
          "CS-GO",
          "Borderlands",
          "Battlefield",
          "Dota2",
          "Borderlands",
          "Amazon",
          "CallOfDuty",
          "Hearthstone",
          "WorldOfCraft",
          "Cyberpunk2077",
          "HomeDepot",
          "TomClancysRainbowSix",
          "Dota2",
          "PlayStation5(PS5)",
          "Borderlands",
          "Microsoft"
         ],
         "xaxis": "x",
         "yaxis": "y"
        }
       ],
       "layout": {
        "autosize": true,
        "bargap": 0.15,
        "bargroupgap": 0.1,
        "barmode": "group",
        "dragmode": "zoom",
        "legend": {
         "orientation": "h",
         "title": {
          "text": "Sentiment"
         },
         "tracegroupgap": 0,
         "x": 0.5,
         "xanchor": "center",
         "y": 1.1,
         "yanchor": "top"
        },
        "paper_bgcolor": "rgba(0, 0, 0, 0)",
        "plot_bgcolor": "rgba(0, 0, 0, 0)",
        "template": {
         "data": {
          "bar": [
           {
            "error_x": {
             "color": "#2a3f5f"
            },
            "error_y": {
             "color": "#2a3f5f"
            },
            "marker": {
             "line": {
              "color": "#E5ECF6",
              "width": 0.5
             },
             "pattern": {
              "fillmode": "overlay",
              "size": 10,
              "solidity": 0.2
             }
            },
            "type": "bar"
           }
          ],
          "barpolar": [
           {
            "marker": {
             "line": {
              "color": "#E5ECF6",
              "width": 0.5
             },
             "pattern": {
              "fillmode": "overlay",
              "size": 10,
              "solidity": 0.2
             }
            },
            "type": "barpolar"
           }
          ],
          "carpet": [
           {
            "aaxis": {
             "endlinecolor": "#2a3f5f",
             "gridcolor": "white",
             "linecolor": "white",
             "minorgridcolor": "white",
             "startlinecolor": "#2a3f5f"
            },
            "baxis": {
             "endlinecolor": "#2a3f5f",
             "gridcolor": "white",
             "linecolor": "white",
             "minorgridcolor": "white",
             "startlinecolor": "#2a3f5f"
            },
            "type": "carpet"
           }
          ],
          "choropleth": [
           {
            "colorbar": {
             "outlinewidth": 0,
             "ticks": ""
            },
            "type": "choropleth"
           }
          ],
          "contour": [
           {
            "colorbar": {
             "outlinewidth": 0,
             "ticks": ""
            },
            "colorscale": [
             [
              0,
              "#0d0887"
             ],
             [
              0.1111111111111111,
              "#46039f"
             ],
             [
              0.2222222222222222,
              "#7201a8"
             ],
             [
              0.3333333333333333,
              "#9c179e"
             ],
             [
              0.4444444444444444,
              "#bd3786"
             ],
             [
              0.5555555555555556,
              "#d8576b"
             ],
             [
              0.6666666666666666,
              "#ed7953"
             ],
             [
              0.7777777777777778,
              "#fb9f3a"
             ],
             [
              0.8888888888888888,
              "#fdca26"
             ],
             [
              1,
              "#f0f921"
             ]
            ],
            "type": "contour"
           }
          ],
          "contourcarpet": [
           {
            "colorbar": {
             "outlinewidth": 0,
             "ticks": ""
            },
            "type": "contourcarpet"
           }
          ],
          "heatmap": [
           {
            "colorbar": {
             "outlinewidth": 0,
             "ticks": ""
            },
            "colorscale": [
             [
              0,
              "#0d0887"
             ],
             [
              0.1111111111111111,
              "#46039f"
             ],
             [
              0.2222222222222222,
              "#7201a8"
             ],
             [
              0.3333333333333333,
              "#9c179e"
             ],
             [
              0.4444444444444444,
              "#bd3786"
             ],
             [
              0.5555555555555556,
              "#d8576b"
             ],
             [
              0.6666666666666666,
              "#ed7953"
             ],
             [
              0.7777777777777778,
              "#fb9f3a"
             ],
             [
              0.8888888888888888,
              "#fdca26"
             ],
             [
              1,
              "#f0f921"
             ]
            ],
            "type": "heatmap"
           }
          ],
          "heatmapgl": [
           {
            "colorbar": {
             "outlinewidth": 0,
             "ticks": ""
            },
            "colorscale": [
             [
              0,
              "#0d0887"
             ],
             [
              0.1111111111111111,
              "#46039f"
             ],
             [
              0.2222222222222222,
              "#7201a8"
             ],
             [
              0.3333333333333333,
              "#9c179e"
             ],
             [
              0.4444444444444444,
              "#bd3786"
             ],
             [
              0.5555555555555556,
              "#d8576b"
             ],
             [
              0.6666666666666666,
              "#ed7953"
             ],
             [
              0.7777777777777778,
              "#fb9f3a"
             ],
             [
              0.8888888888888888,
              "#fdca26"
             ],
             [
              1,
              "#f0f921"
             ]
            ],
            "type": "heatmapgl"
           }
          ],
          "histogram": [
           {
            "marker": {
             "pattern": {
              "fillmode": "overlay",
              "size": 10,
              "solidity": 0.2
             }
            },
            "type": "histogram"
           }
          ],
          "histogram2d": [
           {
            "colorbar": {
             "outlinewidth": 0,
             "ticks": ""
            },
            "colorscale": [
             [
              0,
              "#0d0887"
             ],
             [
              0.1111111111111111,
              "#46039f"
             ],
             [
              0.2222222222222222,
              "#7201a8"
             ],
             [
              0.3333333333333333,
              "#9c179e"
             ],
             [
              0.4444444444444444,
              "#bd3786"
             ],
             [
              0.5555555555555556,
              "#d8576b"
             ],
             [
              0.6666666666666666,
              "#ed7953"
             ],
             [
              0.7777777777777778,
              "#fb9f3a"
             ],
             [
              0.8888888888888888,
              "#fdca26"
             ],
             [
              1,
              "#f0f921"
             ]
            ],
            "type": "histogram2d"
           }
          ],
          "histogram2dcontour": [
           {
            "colorbar": {
             "outlinewidth": 0,
             "ticks": ""
            },
            "colorscale": [
             [
              0,
              "#0d0887"
             ],
             [
              0.1111111111111111,
              "#46039f"
             ],
             [
              0.2222222222222222,
              "#7201a8"
             ],
             [
              0.3333333333333333,
              "#9c179e"
             ],
             [
              0.4444444444444444,
              "#bd3786"
             ],
             [
              0.5555555555555556,
              "#d8576b"
             ],
             [
              0.6666666666666666,
              "#ed7953"
             ],
             [
              0.7777777777777778,
              "#fb9f3a"
             ],
             [
              0.8888888888888888,
              "#fdca26"
             ],
             [
              1,
              "#f0f921"
             ]
            ],
            "type": "histogram2dcontour"
           }
          ],
          "mesh3d": [
           {
            "colorbar": {
             "outlinewidth": 0,
             "ticks": ""
            },
            "type": "mesh3d"
           }
          ],
          "parcoords": [
           {
            "line": {
             "colorbar": {
              "outlinewidth": 0,
              "ticks": ""
             }
            },
            "type": "parcoords"
           }
          ],
          "pie": [
           {
            "automargin": true,
            "type": "pie"
           }
          ],
          "scatter": [
           {
            "fillpattern": {
             "fillmode": "overlay",
             "size": 10,
             "solidity": 0.2
            },
            "type": "scatter"
           }
          ],
          "scatter3d": [
           {
            "line": {
             "colorbar": {
              "outlinewidth": 0,
              "ticks": ""
             }
            },
            "marker": {
             "colorbar": {
              "outlinewidth": 0,
              "ticks": ""
             }
            },
            "type": "scatter3d"
           }
          ],
          "scattercarpet": [
           {
            "marker": {
             "colorbar": {
              "outlinewidth": 0,
              "ticks": ""
             }
            },
            "type": "scattercarpet"
           }
          ],
          "scattergeo": [
           {
            "marker": {
             "colorbar": {
              "outlinewidth": 0,
              "ticks": ""
             }
            },
            "type": "scattergeo"
           }
          ],
          "scattergl": [
           {
            "marker": {
             "colorbar": {
              "outlinewidth": 0,
              "ticks": ""
             }
            },
            "type": "scattergl"
           }
          ],
          "scattermapbox": [
           {
            "marker": {
             "colorbar": {
              "outlinewidth": 0,
              "ticks": ""
             }
            },
            "type": "scattermapbox"
           }
          ],
          "scatterpolar": [
           {
            "marker": {
             "colorbar": {
              "outlinewidth": 0,
              "ticks": ""
             }
            },
            "type": "scatterpolar"
           }
          ],
          "scatterpolargl": [
           {
            "marker": {
             "colorbar": {
              "outlinewidth": 0,
              "ticks": ""
             }
            },
            "type": "scatterpolargl"
           }
          ],
          "scatterternary": [
           {
            "marker": {
             "colorbar": {
              "outlinewidth": 0,
              "ticks": ""
             }
            },
            "type": "scatterternary"
           }
          ],
          "surface": [
           {
            "colorbar": {
             "outlinewidth": 0,
             "ticks": ""
            },
            "colorscale": [
             [
              0,
              "#0d0887"
             ],
             [
              0.1111111111111111,
              "#46039f"
             ],
             [
              0.2222222222222222,
              "#7201a8"
             ],
             [
              0.3333333333333333,
              "#9c179e"
             ],
             [
              0.4444444444444444,
              "#bd3786"
             ],
             [
              0.5555555555555556,
              "#d8576b"
             ],
             [
              0.6666666666666666,
              "#ed7953"
             ],
             [
              0.7777777777777778,
              "#fb9f3a"
             ],
             [
              0.8888888888888888,
              "#fdca26"
             ],
             [
              1,
              "#f0f921"
             ]
            ],
            "type": "surface"
           }
          ],
          "table": [
           {
            "cells": {
             "fill": {
              "color": "#EBF0F8"
             },
             "line": {
              "color": "white"
             }
            },
            "header": {
             "fill": {
              "color": "#C8D4E3"
             },
             "line": {
              "color": "white"
             }
            },
            "type": "table"
           }
          ]
         },
         "layout": {
          "annotationdefaults": {
           "arrowcolor": "#2a3f5f",
           "arrowhead": 0,
           "arrowwidth": 1
          },
          "autotypenumbers": "strict",
          "coloraxis": {
           "colorbar": {
            "outlinewidth": 0,
            "ticks": ""
           }
          },
          "colorscale": {
           "diverging": [
            [
             0,
             "#8e0152"
            ],
            [
             0.1,
             "#c51b7d"
            ],
            [
             0.2,
             "#de77ae"
            ],
            [
             0.3,
             "#f1b6da"
            ],
            [
             0.4,
             "#fde0ef"
            ],
            [
             0.5,
             "#f7f7f7"
            ],
            [
             0.6,
             "#e6f5d0"
            ],
            [
             0.7,
             "#b8e186"
            ],
            [
             0.8,
             "#7fbc41"
            ],
            [
             0.9,
             "#4d9221"
            ],
            [
             1,
             "#276419"
            ]
           ],
           "sequential": [
            [
             0,
             "#0d0887"
            ],
            [
             0.1111111111111111,
             "#46039f"
            ],
            [
             0.2222222222222222,
             "#7201a8"
            ],
            [
             0.3333333333333333,
             "#9c179e"
            ],
            [
             0.4444444444444444,
             "#bd3786"
            ],
            [
             0.5555555555555556,
             "#d8576b"
            ],
            [
             0.6666666666666666,
             "#ed7953"
            ],
            [
             0.7777777777777778,
             "#fb9f3a"
            ],
            [
             0.8888888888888888,
             "#fdca26"
            ],
            [
             1,
             "#f0f921"
            ]
           ],
           "sequentialminus": [
            [
             0,
             "#0d0887"
            ],
            [
             0.1111111111111111,
             "#46039f"
            ],
            [
             0.2222222222222222,
             "#7201a8"
            ],
            [
             0.3333333333333333,
             "#9c179e"
            ],
            [
             0.4444444444444444,
             "#bd3786"
            ],
            [
             0.5555555555555556,
             "#d8576b"
            ],
            [
             0.6666666666666666,
             "#ed7953"
            ],
            [
             0.7777777777777778,
             "#fb9f3a"
            ],
            [
             0.8888888888888888,
             "#fdca26"
            ],
            [
             1,
             "#f0f921"
            ]
           ]
          },
          "colorway": [
           "#636efa",
           "#EF553B",
           "#00cc96",
           "#ab63fa",
           "#FFA15A",
           "#19d3f3",
           "#FF6692",
           "#B6E880",
           "#FF97FF",
           "#FECB52"
          ],
          "font": {
           "color": "#2a3f5f"
          },
          "geo": {
           "bgcolor": "white",
           "lakecolor": "white",
           "landcolor": "#E5ECF6",
           "showlakes": true,
           "showland": true,
           "subunitcolor": "white"
          },
          "hoverlabel": {
           "align": "left"
          },
          "hovermode": "closest",
          "mapbox": {
           "style": "light"
          },
          "paper_bgcolor": "white",
          "plot_bgcolor": "#E5ECF6",
          "polar": {
           "angularaxis": {
            "gridcolor": "white",
            "linecolor": "white",
            "ticks": ""
           },
           "bgcolor": "#E5ECF6",
           "radialaxis": {
            "gridcolor": "white",
            "linecolor": "white",
            "ticks": ""
           }
          },
          "scene": {
           "xaxis": {
            "backgroundcolor": "#E5ECF6",
            "gridcolor": "white",
            "gridwidth": 2,
            "linecolor": "white",
            "showbackground": true,
            "ticks": "",
            "zerolinecolor": "white"
           },
           "yaxis": {
            "backgroundcolor": "#E5ECF6",
            "gridcolor": "white",
            "gridwidth": 2,
            "linecolor": "white",
            "showbackground": true,
            "ticks": "",
            "zerolinecolor": "white"
           },
           "zaxis": {
            "backgroundcolor": "#E5ECF6",
            "gridcolor": "white",
            "gridwidth": 2,
            "linecolor": "white",
            "showbackground": true,
            "ticks": "",
            "zerolinecolor": "white"
           }
          },
          "shapedefaults": {
           "line": {
            "color": "#2a3f5f"
           }
          },
          "ternary": {
           "aaxis": {
            "gridcolor": "white",
            "linecolor": "white",
            "ticks": ""
           },
           "baxis": {
            "gridcolor": "white",
            "linecolor": "white",
            "ticks": ""
           },
           "bgcolor": "#E5ECF6",
           "caxis": {
            "gridcolor": "white",
            "linecolor": "white",
            "ticks": ""
           }
          },
          "title": {
           "x": 0.05
          },
          "xaxis": {
           "automargin": true,
           "gridcolor": "white",
           "linecolor": "white",
           "ticks": "",
           "title": {
            "standoff": 15
           },
           "zerolinecolor": "white",
           "zerolinewidth": 2
          },
          "yaxis": {
           "automargin": true,
           "gridcolor": "white",
           "linecolor": "white",
           "ticks": "",
           "title": {
            "standoff": 15
           },
           "zerolinecolor": "white",
           "zerolinewidth": 2
          }
         }
        },
        "title": {
         "text": "Sentiment Distribution by Brand"
        },
        "xaxis": {
         "anchor": "y",
         "autorange": true,
         "domain": [
          0,
          1
         ],
         "range": [
          -0.5,
          31.5
         ],
         "title": {
          "text": "Brand"
         },
         "type": "category"
        },
        "yaxis": {
         "anchor": "x",
         "autorange": true,
         "domain": [
          0,
          1
         ],
         "range": [
          0,
          25.263157894736842
         ],
         "title": {
          "text": "Count"
         }
        }
       }
      },
      "image/png": "[encoded data removed]",
      "text/html": [
       "<div>                            <div id=\"734471c6-08a2-4c0f-af24-7881e825211b\" class=\"plotly-graph-div\" style=\"height:525px; width:100%;\"></div>            <script type=\"text/javascript\">                require([\"plotly\"], function(Plotly) {                    window.PLOTLYENV=window.PLOTLYENV || {};                                    if (document.getElementById(\"734471c6-08a2-4c0f-af24-7881e825211b\")) {                    Plotly.newPlot(                        \"734471c6-08a2-4c0f-af24-7881e825211b\",                        [{\"alignmentgroup\":\"True\",\"bingroup\":\"x\",\"histfunc\":\"count\",\"hovertemplate\":\"Sentiment=Irrelevant<br>Brand=%{x}<br>count=%{y}<extra></extra>\",\"legendgroup\":\"Irrelevant\",\"marker\":{\"color\":\"#ab63fa\",\"pattern\":{\"shape\":\"\"}},\"name\":\"Irrelevant\",\"offsetgroup\":\"Irrelevant\",\"orientation\":\"v\",\"showlegend\":true,\"x\":[\"Facebook\",\"CallOfDuty\",\"Overwatch\",\"PlayerUnknownsBattlegrounds(PUBG)\",\"Xbox(Xseries)\",\"TomClancysRainbowSix\",\"Cyberpunk2077\",\"CallOfDuty\",\"Amazon\",\"Overwatch\",\"PlayerUnknownsBattlegrounds(PUBG)\",\"ApexLegends\",\"CallOfDuty\",\"LeagueOfLegends\",\"FIFA\",\"Xbox(Xseries)\",\"CallOfDutyBlackopsColdWar\",\"Fortnite\",\"PlayerUnknownsBattlegrounds(PUBG)\",\"CallOfDuty\",\"Cyberpunk2077\",\"PlayerUnknownsBattlegrounds(PUBG)\",\"Fortnite\",\"Battlefield\",\"Overwatch\",\"Fortnite\",\"Google\",\"Hearthstone\",\"Battlefield\",\"Cyberpunk2077\",\"johnson&johnson\",\"Overwatch\",\"Battlefield\",\"Fortnite\",\"CS-GO\",\"LeagueOfLegends\",\"Hearthstone\",\"FIFA\",\"Amazon\",\"Facebook\",\"CallOfDutyBlackopsColdWar\",\"Cyberpunk2077\",\"Google\",\"FIFA\",\"PlayerUnknownsBattlegrounds(PUBG)\",\"CallOfDutyBlackopsColdWar\",\"HomeDepot\",\"MaddenNFL\",\"PlayerUnknownsBattlegrounds(PUBG)\",\"Borderlands\",\"Overwatch\",\"Fortnite\",\"Fortnite\",\"LeagueOfLegends\",\"WorldOfCraft\",\"Cyberpunk2077\",\"Fortnite\",\"Battlefield\",\"Facebook\",\"RedDeadRedemption(RDR)\",\"CS-GO\",\"CS-GO\",\"Facebook\",\"GrandTheftAuto(GTA)\",\"ApexLegends\",\"PlayerUnknownsBattlegrounds(PUBG)\",\"WorldOfCraft\",\"Cyberpunk2077\",\"Battlefield\",\"CallOfDuty\",\"ApexLegends\",\"WorldOfCraft\",\"Overwatch\",\"Nvidia\",\"Battlefield\",\"WorldOfCraft\",\"Cyberpunk2077\",\"johnson&johnson\",\"Xbox(Xseries)\",\"PlayerUnknownsBattlegrounds(PUBG)\",\"GrandTheftAuto(GTA)\",\"GrandTheftAuto(GTA)\",\"Xbox(Xseries)\",\"RedDeadRedemption(RDR)\",\"Borderlands\",\"FIFA\",\"CallOfDuty\",\"CallOfDutyBlackopsColdWar\",\"Battlefield\",\"Battlefield\",\"Fortnite\",\"CallOfDuty\",\"Overwatch\",\"Nvidia\",\"Fortnite\",\"CS-GO\",\"CallOfDuty\",\"CS-GO\",\"Facebook\",\"Xbox(Xseries)\",\"LeagueOfLegends\",\"Google\",\"FIFA\",\"Fortnite\",\"Battlefield\",\"PlayerUnknownsBattlegrounds(PUBG)\",\"Xbox(Xseries)\",\"Fortnite\",\"CallOfDuty\",\"FIFA\",\"CS-GO\",\"PlayerUnknownsBattlegrounds(PUBG)\",\"GrandTheftAuto(GTA)\",\"CS-GO\",\"AssassinsCreed\",\"CallOfDutyBlackopsColdWar\",\"Google\",\"Overwatch\",\"Amazon\",\"Facebook\",\"PlayerUnknownsBattlegrounds(PUBG)\",\"GrandTheftAuto(GTA)\",\"Cyberpunk2077\",\"Fortnite\",\"Verizon\",\"HomeDepot\",\"CallOfDuty\",\"Fortnite\",\"Xbox(Xseries)\",\"PlayStation5(PS5)\",\"Xbox(Xseries)\",\"Facebook\",\"Dota2\",\"LeagueOfLegends\",\"PlayerUnknownsBattlegrounds(PUBG)\",\"Xbox(Xseries)\",\"Battlefield\",\"Battlefield\",\"Google\",\"CallOfDutyBlackopsColdWar\",\"Overwatch\",\"WorldOfCraft\",\"PlayerUnknownsBattlegrounds(PUBG)\",\"LeagueOfLegends\",\"Facebook\",\"CallOfDuty\",\"Fortnite\",\"Xbox(Xseries)\",\"GrandTheftAuto(GTA)\",\"Battlefield\",\"PlayStation5(PS5)\",\"johnson&johnson\",\"GrandTheftAuto(GTA)\",\"WorldOfCraft\",\"Facebook\",\"FIFA\",\"CallOfDutyBlackopsColdWar\",\"WorldOfCraft\",\"Xbox(Xseries)\",\"Verizon\",\"FIFA\",\"Fortnite\",\"CallOfDutyBlackopsColdWar\",\"Microsoft\",\"PlayerUnknownsBattlegrounds(PUBG)\",\"FIFA\",\"FIFA\",\"Xbox(Xseries)\",\"PlayerUnknownsBattlegrounds(PUBG)\",\"GrandTheftAuto(GTA)\",\"GrandTheftAuto(GTA)\",\"CS-GO\"],\"xaxis\":\"x\",\"yaxis\":\"y\",\"type\":\"histogram\"},{\"alignmentgroup\":\"True\",\"bingroup\":\"x\",\"histfunc\":\"count\",\"hovertemplate\":\"Sentiment=Neutral<br>Brand=%{x}<br>count=%{y}<extra></extra>\",\"legendgroup\":\"Neutral\",\"marker\":{\"color\":\"#FFA15A\",\"pattern\":{\"shape\":\"\"}},\"name\":\"Neutral\",\"offsetgroup\":\"Neutral\",\"orientation\":\"v\",\"showlegend\":true,\"x\":[\"Amazon\",\"Google\",\"CS-GO\",\"Hearthstone\",\"ApexLegends\",\"Nvidia\",\"CallOfDuty\",\"RedDeadRedemption(RDR)\",\"TomClancysRainbowSix\",\"Overwatch\",\"CallOfDuty\",\"Amazon\",\"TomClancysRainbowSix\",\"Xbox(Xseries)\",\"johnson&johnson\",\"CallOfDutyBlackopsColdWar\",\"CallOfDuty\",\"Google\",\"Microsoft\",\"WorldOfCraft\",\"CS-GO\",\"TomClancysGhostRecon\",\"Hearthstone\",\"Facebook\",\"Verizon\",\"ApexLegends\",\"CallOfDutyBlackopsColdWar\",\"RedDeadRedemption(RDR)\",\"PlayerUnknownsBattlegrounds(PUBG)\",\"Hearthstone\",\"Facebook\",\"GrandTheftAuto(GTA)\",\"Nvidia\",\"Dota2\",\"Borderlands\",\"Nvidia\",\"LeagueOfLegends\",\"PlayerUnknownsBattlegrounds(PUBG)\",\"LeagueOfLegends\",\"CS-GO\",\"Dota2\",\"Hearthstone\",\"Microsoft\",\"FIFA\",\"Amazon\",\"TomClancysRainbowSix\",\"WorldOfCraft\",\"ApexLegends\",\"WorldOfCraft\",\"johnson&johnson\",\"Facebook\",\"LeagueOfLegends\",\"CS-GO\",\"GrandTheftAuto(GTA)\",\"RedDeadRedemption(RDR)\",\"TomClancysRainbowSix\",\"johnson&johnson\",\"HomeDepot\",\"ApexLegends\",\"GrandTheftAuto(GTA)\",\"johnson&johnson\",\"RedDeadRedemption(RDR)\",\"WorldOfCraft\",\"Dota2\",\"TomClancysGhostRecon\",\"johnson&johnson\",\"ApexLegends\",\"ApexLegends\",\"WorldOfCraft\",\"Google\",\"CS-GO\",\"ApexLegends\",\"ApexLegends\",\"Facebook\",\"johnson&johnson\",\"johnson&johnson\",\"johnson&johnson\",\"ApexLegends\",\"Battlefield\",\"ApexLegends\",\"Verizon\",\"Facebook\",\"CallOfDuty\",\"LeagueOfLegends\",\"TomClancysRainbowSix\",\"NBA2K\",\"Hearthstone\",\"Amazon\",\"Microsoft\",\"Dota2\",\"RedDeadRedemption(RDR)\",\"Nvidia\",\"TomClancysRainbowSix\",\"ApexLegends\",\"Microsoft\",\"Dota2\",\"AssassinsCreed\",\"Nvidia\",\"RedDeadRedemption(RDR)\",\"Xbox(Xseries)\",\"Borderlands\",\"PlayerUnknownsBattlegrounds(PUBG)\",\"Facebook\",\"PlayStation5(PS5)\",\"GrandTheftAuto(GTA)\",\"RedDeadRedemption(RDR)\",\"Hearthstone\",\"Facebook\",\"Fortnite\",\"LeagueOfLegends\",\"Borderlands\",\"Nvidia\",\"CS-GO\",\"Hearthstone\",\"Nvidia\",\"Amazon\",\"MaddenNFL\",\"WorldOfCraft\",\"Borderlands\",\"Borderlands\",\"Facebook\",\"WorldOfCraft\",\"GrandTheftAuto(GTA)\",\"RedDeadRedemption(RDR)\",\"Dota2\",\"PlayerUnknownsBattlegrounds(PUBG)\",\"WorldOfCraft\",\"NBA2K\",\"LeagueOfLegends\",\"WorldOfCraft\",\"TomClancysRainbowSix\",\"NBA2K\",\"johnson&johnson\",\"CS-GO\",\"Amazon\",\"Dota2\",\"johnson&johnson\",\"Battlefield\",\"Amazon\",\"Nvidia\",\"Dota2\",\"TomClancysRainbowSix\",\"Nvidia\",\"Hearthstone\",\"Cyberpunk2077\",\"johnson&johnson\",\"Cyberpunk2077\",\"PlayStation5(PS5)\",\"TomClancysRainbowSix\",\"HomeDepot\",\"Microsoft\",\"Nvidia\",\"MaddenNFL\",\"ApexLegends\",\"AssassinsCreed\",\"TomClancysGhostRecon\",\"CS-GO\",\"TomClancysGhostRecon\",\"WorldOfCraft\",\"TomClancysGhostRecon\",\"LeagueOfLegends\",\"LeagueOfLegends\",\"johnson&johnson\",\"Dota2\",\"WorldOfCraft\",\"Borderlands\",\"Borderlands\",\"Battlefield\",\"Hearthstone\",\"TomClancysRainbowSix\",\"RedDeadRedemption(RDR)\",\"PlayStation5(PS5)\",\"Xbox(Xseries)\",\"ApexLegends\",\"Amazon\",\"Dota2\",\"FIFA\",\"CallOfDuty\",\"Facebook\",\"Cyberpunk2077\",\"PlayStation5(PS5)\",\"johnson&johnson\",\"WorldOfCraft\",\"FIFA\",\"Nvidia\",\"CallOfDutyBlackopsColdWar\",\"Borderlands\",\"Amazon\",\"Amazon\",\"LeagueOfLegends\",\"Nvidia\",\"LeagueOfLegends\",\"PlayStation5(PS5)\",\"Microsoft\",\"Facebook\",\"PlayStation5(PS5)\",\"TomClancysRainbowSix\",\"CS-GO\",\"johnson&johnson\",\"Verizon\",\"WorldOfCraft\",\"Amazon\",\"Verizon\",\"Battlefield\",\"TomClancysGhostRecon\",\"Nvidia\",\"johnson&johnson\",\"RedDeadRedemption(RDR)\",\"ApexLegends\",\"AssassinsCreed\",\"johnson&johnson\",\"CallOfDutyBlackopsColdWar\",\"HomeDepot\",\"AssassinsCreed\",\"Dota2\",\"Amazon\",\"CS-GO\",\"Borderlands\",\"Google\",\"Facebook\",\"HomeDepot\",\"TomClancysRainbowSix\",\"RedDeadRedemption(RDR)\",\"Amazon\",\"LeagueOfLegends\",\"ApexLegends\",\"HomeDepot\",\"PlayStation5(PS5)\",\"LeagueOfLegends\",\"PlayStation5(PS5)\",\"LeagueOfLegends\",\"FIFA\",\"Overwatch\",\"Amazon\",\"Overwatch\",\"Google\",\"WorldOfCraft\",\"CallOfDutyBlackopsColdWar\",\"Verizon\",\"ApexLegends\",\"CallOfDutyBlackopsColdWar\",\"Borderlands\",\"johnson&johnson\",\"Facebook\",\"Amazon\",\"Verizon\",\"johnson&johnson\",\"CS-GO\",\"RedDeadRedemption(RDR)\",\"CS-GO\",\"PlayStation5(PS5)\",\"RedDeadRedemption(RDR)\",\"Verizon\",\"Nvidia\",\"Google\",\"GrandTheftAuto(GTA)\",\"RedDeadRedemption(RDR)\",\"Facebook\",\"Hearthstone\",\"ApexLegends\",\"Verizon\",\"Verizon\",\"Nvidia\",\"WorldOfCraft\",\"TomClancysGhostRecon\",\"Borderlands\",\"Borderlands\",\"Verizon\",\"RedDeadRedemption(RDR)\",\"Overwatch\",\"Google\",\"TomClancysRainbowSix\",\"Amazon\",\"CallOfDuty\",\"Cyberpunk2077\",\"RedDeadRedemption(RDR)\",\"Amazon\",\"Amazon\",\"CS-GO\",\"RedDeadRedemption(RDR)\",\"Google\",\"RedDeadRedemption(RDR)\",\"LeagueOfLegends\",\"CallOfDuty\",\"johnson&johnson\"],\"xaxis\":\"x\",\"yaxis\":\"y\",\"type\":\"histogram\"},{\"alignmentgroup\":\"True\",\"bingroup\":\"x\",\"histfunc\":\"count\",\"hovertemplate\":\"Sentiment=Negative<br>Brand=%{x}<br>count=%{y}<extra></extra>\",\"legendgroup\":\"Negative\",\"marker\":{\"color\":\"#19d3f3\",\"pattern\":{\"shape\":\"\"}},\"name\":\"Negative\",\"offsetgroup\":\"Negative\",\"orientation\":\"v\",\"showlegend\":true,\"x\":[\"Microsoft\",\"CS-GO\",\"FIFA\",\"CallOfDuty\",\"Verizon\",\"NBA2K\",\"Dota2\",\"Microsoft\",\"CallOfDuty\",\"CS-GO\",\"Verizon\",\"Borderlands\",\"johnson&johnson\",\"Fortnite\",\"Hearthstone\",\"johnson&johnson\",\"CallOfDuty\",\"PlayerUnknownsBattlegrounds(PUBG)\",\"FIFA\",\"CallOfDuty\",\"Verizon\",\"NBA2K\",\"PlayerUnknownsBattlegrounds(PUBG)\",\"MaddenNFL\",\"johnson&johnson\",\"PlayStation5(PS5)\",\"GrandTheftAuto(GTA)\",\"Hearthstone\",\"Facebook\",\"Overwatch\",\"Verizon\",\"Battlefield\",\"TomClancysGhostRecon\",\"PlayerUnknownsBattlegrounds(PUBG)\",\"Facebook\",\"Verizon\",\"Dota2\",\"Google\",\"CallOfDutyBlackopsColdWar\",\"NBA2K\",\"CallOfDutyBlackopsColdWar\",\"Dota2\",\"ApexLegends\",\"NBA2K\",\"LeagueOfLegends\",\"TomClancysRainbowSix\",\"Microsoft\",\"NBA2K\",\"Fortnite\",\"FIFA\",\"TomClancysRainbowSix\",\"Verizon\",\"MaddenNFL\",\"NBA2K\",\"AssassinsCreed\",\"TomClancysRainbowSix\",\"Amazon\",\"johnson&johnson\",\"RedDeadRedemption(RDR)\",\"GrandTheftAuto(GTA)\",\"Borderlands\",\"Facebook\",\"Google\",\"MaddenNFL\",\"johnson&johnson\",\"Dota2\",\"GrandTheftAuto(GTA)\",\"ApexLegends\",\"HomeDepot\",\"johnson&johnson\",\"Facebook\",\"Overwatch\",\"Fortnite\",\"FIFA\",\"Battlefield\",\"WorldOfCraft\",\"FIFA\",\"Dota2\",\"Nvidia\",\"Dota2\",\"NBA2K\",\"Borderlands\",\"Overwatch\",\"Overwatch\",\"PlayerUnknownsBattlegrounds(PUBG)\",\"Battlefield\",\"TomClancysGhostRecon\",\"LeagueOfLegends\",\"NBA2K\",\"NBA2K\",\"Verizon\",\"AssassinsCreed\",\"LeagueOfLegends\",\"NBA2K\",\"Facebook\",\"Verizon\",\"LeagueOfLegends\",\"FIFA\",\"Facebook\",\"PlayStation5(PS5)\",\"Hearthstone\",\"Fortnite\",\"PlayerUnknownsBattlegrounds(PUBG)\",\"Overwatch\",\"MaddenNFL\",\"FIFA\",\"TomClancysGhostRecon\",\"TomClancysGhostRecon\",\"Microsoft\",\"TomClancysRainbowSix\",\"Battlefield\",\"Hearthstone\",\"Overwatch\",\"TomClancysGhostRecon\",\"Fortnite\",\"HomeDepot\",\"CallOfDuty\",\"Borderlands\",\"Overwatch\",\"Fortnite\",\"Google\",\"Nvidia\",\"TomClancysRainbowSix\",\"johnson&johnson\",\"Fortnite\",\"PlayStation5(PS5)\",\"Hearthstone\",\"MaddenNFL\",\"johnson&johnson\",\"PlayerUnknownsBattlegrounds(PUBG)\",\"Verizon\",\"FIFA\",\"CallOfDuty\",\"MaddenNFL\",\"FIFA\",\"FIFA\",\"Google\",\"TomClancysGhostRecon\",\"Amazon\",\"FIFA\",\"MaddenNFL\",\"MaddenNFL\",\"NBA2K\",\"GrandTheftAuto(GTA)\",\"Overwatch\",\"ApexLegends\",\"MaddenNFL\",\"Xbox(Xseries)\",\"johnson&johnson\",\"TomClancysRainbowSix\",\"HomeDepot\",\"ApexLegends\",\"Nvidia\",\"Facebook\",\"LeagueOfLegends\",\"NBA2K\",\"Nvidia\",\"NBA2K\",\"MaddenNFL\",\"GrandTheftAuto(GTA)\",\"Dota2\",\"MaddenNFL\",\"RedDeadRedemption(RDR)\",\"Fortnite\",\"Fortnite\",\"Xbox(Xseries)\",\"Hearthstone\",\"Verizon\",\"CallOfDuty\",\"Overwatch\",\"Overwatch\",\"ApexLegends\",\"johnson&johnson\",\"Hearthstone\",\"PlayStation5(PS5)\",\"Nvidia\",\"MaddenNFL\",\"TomClancysGhostRecon\",\"PlayStation5(PS5)\",\"johnson&johnson\",\"Amazon\",\"RedDeadRedemption(RDR)\",\"TomClancysGhostRecon\",\"MaddenNFL\",\"PlayerUnknownsBattlegrounds(PUBG)\",\"NBA2K\",\"Amazon\",\"GrandTheftAuto(GTA)\",\"PlayStation5(PS5)\",\"LeagueOfLegends\",\"Hearthstone\",\"PlayerUnknownsBattlegrounds(PUBG)\",\"AssassinsCreed\",\"HomeDepot\",\"Hearthstone\",\"Battlefield\",\"GrandTheftAuto(GTA)\",\"Verizon\",\"Fortnite\",\"Nvidia\",\"Microsoft\",\"PlayerUnknownsBattlegrounds(PUBG)\",\"TomClancysRainbowSix\",\"FIFA\",\"ApexLegends\",\"GrandTheftAuto(GTA)\",\"Fortnite\",\"RedDeadRedemption(RDR)\",\"HomeDepot\",\"Verizon\",\"NBA2K\",\"Google\",\"AssassinsCreed\",\"TomClancysGhostRecon\",\"Nvidia\",\"Google\",\"Borderlands\",\"MaddenNFL\",\"Google\",\"RedDeadRedemption(RDR)\",\"NBA2K\",\"MaddenNFL\",\"CallOfDutyBlackopsColdWar\",\"HomeDepot\",\"PlayerUnknownsBattlegrounds(PUBG)\",\"Hearthstone\",\"Fortnite\",\"TomClancysGhostRecon\",\"LeagueOfLegends\",\"Xbox(Xseries)\",\"CallOfDuty\",\"PlayStation5(PS5)\",\"Battlefield\",\"TomClancysGhostRecon\",\"LeagueOfLegends\",\"Amazon\",\"Fortnite\",\"Overwatch\",\"TomClancysRainbowSix\",\"MaddenNFL\",\"MaddenNFL\",\"GrandTheftAuto(GTA)\",\"HomeDepot\",\"FIFA\",\"Nvidia\",\"johnson&johnson\",\"FIFA\",\"Microsoft\",\"Cyberpunk2077\",\"johnson&johnson\",\"Xbox(Xseries)\",\"FIFA\",\"Facebook\",\"MaddenNFL\",\"TomClancysGhostRecon\",\"HomeDepot\",\"NBA2K\",\"FIFA\",\"Google\",\"Verizon\",\"Microsoft\",\"TomClancysRainbowSix\",\"Overwatch\",\"Dota2\",\"Battlefield\",\"Amazon\"],\"xaxis\":\"x\",\"yaxis\":\"y\",\"type\":\"histogram\"},{\"alignmentgroup\":\"True\",\"bingroup\":\"x\",\"histfunc\":\"count\",\"hovertemplate\":\"Sentiment=Positive<br>Brand=%{x}<br>count=%{y}<extra></extra>\",\"legendgroup\":\"Positive\",\"marker\":{\"color\":\"#FF6692\",\"pattern\":{\"shape\":\"\"}},\"name\":\"Positive\",\"offsetgroup\":\"Positive\",\"orientation\":\"v\",\"showlegend\":true,\"x\":[\"MaddenNFL\",\"TomClancysRainbowSix\",\"AssassinsCreed\",\"Dota2\",\"AssassinsCreed\",\"Nvidia\",\"GrandTheftAuto(GTA)\",\"RedDeadRedemption(RDR)\",\"Nvidia\",\"PlayStation5(PS5)\",\"Nvidia\",\"AssassinsCreed\",\"CallOfDuty\",\"CallOfDutyBlackopsColdWar\",\"Overwatch\",\"FIFA\",\"Facebook\",\"HomeDepot\",\"CallOfDutyBlackopsColdWar\",\"NBA2K\",\"AssassinsCreed\",\"TomClancysRainbowSix\",\"TomClancysGhostRecon\",\"Microsoft\",\"AssassinsCreed\",\"PlayStation5(PS5)\",\"CS-GO\",\"AssassinsCreed\",\"LeagueOfLegends\",\"Cyberpunk2077\",\"Microsoft\",\"Cyberpunk2077\",\"Nvidia\",\"ApexLegends\",\"PlayStation5(PS5)\",\"Amazon\",\"TomClancysRainbowSix\",\"Cyberpunk2077\",\"RedDeadRedemption(RDR)\",\"CallOfDutyBlackopsColdWar\",\"PlayStation5(PS5)\",\"LeagueOfLegends\",\"TomClancysGhostRecon\",\"Borderlands\",\"PlayerUnknownsBattlegrounds(PUBG)\",\"Verizon\",\"Borderlands\",\"TomClancysRainbowSix\",\"GrandTheftAuto(GTA)\",\"Overwatch\",\"Cyberpunk2077\",\"RedDeadRedemption(RDR)\",\"PlayStation5(PS5)\",\"RedDeadRedemption(RDR)\",\"Borderlands\",\"AssassinsCreed\",\"MaddenNFL\",\"Google\",\"Dota2\",\"PlayerUnknownsBattlegrounds(PUBG)\",\"PlayerUnknownsBattlegrounds(PUBG)\",\"LeagueOfLegends\",\"Overwatch\",\"Facebook\",\"Microsoft\",\"LeagueOfLegends\",\"johnson&johnson\",\"WorldOfCraft\",\"RedDeadRedemption(RDR)\",\"CallOfDuty\",\"AssassinsCreed\",\"AssassinsCreed\",\"AssassinsCreed\",\"Verizon\",\"PlayStation5(PS5)\",\"johnson&johnson\",\"Borderlands\",\"Xbox(Xseries)\",\"Cyberpunk2077\",\"RedDeadRedemption(RDR)\",\"TomClancysRainbowSix\",\"Xbox(Xseries)\",\"Microsoft\",\"AssassinsCreed\",\"Microsoft\",\"Dota2\",\"GrandTheftAuto(GTA)\",\"TomClancysRainbowSix\",\"Google\",\"FIFA\",\"PlayStation5(PS5)\",\"Xbox(Xseries)\",\"Cyberpunk2077\",\"CS-GO\",\"Facebook\",\"RedDeadRedemption(RDR)\",\"LeagueOfLegends\",\"CallOfDutyBlackopsColdWar\",\"FIFA\",\"Dota2\",\"Nvidia\",\"Hearthstone\",\"CS-GO\",\"GrandTheftAuto(GTA)\",\"PlayerUnknownsBattlegrounds(PUBG)\",\"Hearthstone\",\"Google\",\"PlayStation5(PS5)\",\"RedDeadRedemption(RDR)\",\"Microsoft\",\"PlayStation5(PS5)\",\"Cyberpunk2077\",\"PlayerUnknownsBattlegrounds(PUBG)\",\"Fortnite\",\"Nvidia\",\"Nvidia\",\"CallOfDutyBlackopsColdWar\",\"TomClancysGhostRecon\",\"Battlefield\",\"Hearthstone\",\"johnson&johnson\",\"Microsoft\",\"Hearthstone\",\"Amazon\",\"WorldOfCraft\",\"LeagueOfLegends\",\"CS-GO\",\"Microsoft\",\"AssassinsCreed\",\"MaddenNFL\",\"Overwatch\",\"ApexLegends\",\"Nvidia\",\"Dota2\",\"CS-GO\",\"ApexLegends\",\"WorldOfCraft\",\"Borderlands\",\"Fortnite\",\"Microsoft\",\"AssassinsCreed\",\"MaddenNFL\",\"GrandTheftAuto(GTA)\",\"Xbox(Xseries)\",\"Microsoft\",\"FIFA\",\"Microsoft\",\"Cyberpunk2077\",\"RedDeadRedemption(RDR)\",\"Cyberpunk2077\",\"ApexLegends\",\"Cyberpunk2077\",\"Verizon\",\"CS-GO\",\"RedDeadRedemption(RDR)\",\"GrandTheftAuto(GTA)\",\"Cyberpunk2077\",\"AssassinsCreed\",\"Verizon\",\"CallOfDutyBlackopsColdWar\",\"Microsoft\",\"Borderlands\",\"LeagueOfLegends\",\"Borderlands\",\"Borderlands\",\"Nvidia\",\"TomClancysRainbowSix\",\"Amazon\",\"WorldOfCraft\",\"MaddenNFL\",\"Fortnite\",\"ApexLegends\",\"AssassinsCreed\",\"Cyberpunk2077\",\"Borderlands\",\"AssassinsCreed\",\"PlayerUnknownsBattlegrounds(PUBG)\",\"Nvidia\",\"WorldOfCraft\",\"Verizon\",\"RedDeadRedemption(RDR)\",\"TomClancysRainbowSix\",\"AssassinsCreed\",\"AssassinsCreed\",\"ApexLegends\",\"johnson&johnson\",\"Hearthstone\",\"Amazon\",\"Microsoft\",\"TomClancysRainbowSix\",\"CallOfDutyBlackopsColdWar\",\"ApexLegends\",\"GrandTheftAuto(GTA)\",\"MaddenNFL\",\"WorldOfCraft\",\"GrandTheftAuto(GTA)\",\"GrandTheftAuto(GTA)\",\"TomClancysRainbowSix\",\"PlayerUnknownsBattlegrounds(PUBG)\",\"Amazon\",\"CallOfDuty\",\"Cyberpunk2077\",\"AssassinsCreed\",\"FIFA\",\"CS-GO\",\"PlayStation5(PS5)\",\"Overwatch\",\"FIFA\",\"Overwatch\",\"RedDeadRedemption(RDR)\",\"Verizon\",\"CallOfDutyBlackopsColdWar\",\"Borderlands\",\"FIFA\",\"AssassinsCreed\",\"CallOfDutyBlackopsColdWar\",\"Cyberpunk2077\",\"HomeDepot\",\"AssassinsCreed\",\"ApexLegends\",\"Xbox(Xseries)\",\"Xbox(Xseries)\",\"Xbox(Xseries)\",\"RedDeadRedemption(RDR)\",\"ApexLegends\",\"Borderlands\",\"Fortnite\",\"AssassinsCreed\",\"Hearthstone\",\"FIFA\",\"Hearthstone\",\"Amazon\",\"PlayStation5(PS5)\",\"PlayStation5(PS5)\",\"Battlefield\",\"Hearthstone\",\"TomClancysRainbowSix\",\"RedDeadRedemption(RDR)\",\"RedDeadRedemption(RDR)\",\"PlayerUnknownsBattlegrounds(PUBG)\",\"MaddenNFL\",\"PlayerUnknownsBattlegrounds(PUBG)\",\"Hearthstone\",\"CallOfDuty\",\"Cyberpunk2077\",\"Verizon\",\"Cyberpunk2077\",\"PlayStation5(PS5)\",\"MaddenNFL\",\"AssassinsCreed\",\"AssassinsCreed\",\"GrandTheftAuto(GTA)\",\"ApexLegends\",\"LeagueOfLegends\",\"Overwatch\",\"LeagueOfLegends\",\"GrandTheftAuto(GTA)\",\"Fortnite\",\"CS-GO\",\"CallOfDutyBlackopsColdWar\",\"PlayStation5(PS5)\",\"CS-GO\",\"Borderlands\",\"Battlefield\",\"Dota2\",\"Borderlands\",\"Amazon\",\"CallOfDuty\",\"Hearthstone\",\"WorldOfCraft\",\"Cyberpunk2077\",\"HomeDepot\",\"TomClancysRainbowSix\",\"Dota2\",\"PlayStation5(PS5)\",\"Borderlands\",\"Microsoft\"],\"xaxis\":\"x\",\"yaxis\":\"y\",\"type\":\"histogram\"}],                        {\"template\":{\"data\":{\"histogram2dcontour\":[{\"type\":\"histogram2dcontour\",\"colorbar\":{\"outlinewidth\":0,\"ticks\":\"\"},\"colorscale\":[[0.0,\"#0d0887\"],[0.1111111111111111,\"#46039f\"],[0.2222222222222222,\"#7201a8\"],[0.3333333333333333,\"#9c179e\"],[0.4444444444444444,\"#bd3786\"],[0.5555555555555556,\"#d8576b\"],[0.6666666666666666,\"#ed7953\"],[0.7777777777777778,\"#fb9f3a\"],[0.8888888888888888,\"#fdca26\"],[1.0,\"#f0f921\"]]}],\"choropleth\":[{\"type\":\"choropleth\",\"colorbar\":{\"outlinewidth\":0,\"ticks\":\"\"}}],\"histogram2d\":[{\"type\":\"histogram2d\",\"colorbar\":{\"outlinewidth\":0,\"ticks\":\"\"},\"colorscale\":[[0.0,\"#0d0887\"],[0.1111111111111111,\"#46039f\"],[0.2222222222222222,\"#7201a8\"],[0.3333333333333333,\"#9c179e\"],[0.4444444444444444,\"#bd3786\"],[0.5555555555555556,\"#d8576b\"],[0.6666666666666666,\"#ed7953\"],[0.7777777777777778,\"#fb9f3a\"],[0.8888888888888888,\"#fdca26\"],[1.0,\"#f0f921\"]]}],\"heatmap\":[{\"type\":\"heatmap\",\"colorbar\":{\"outlinewidth\":0,\"ticks\":\"\"},\"colorscale\":[[0.0,\"#0d0887\"],[0.1111111111111111,\"#46039f\"],[0.2222222222222222,\"#7201a8\"],[0.3333333333333333,\"#9c179e\"],[0.4444444444444444,\"#bd3786\"],[0.5555555555555556,\"#d8576b\"],[0.6666666666666666,\"#ed7953\"],[0.7777777777777778,\"#fb9f3a\"],[0.8888888888888888,\"#fdca26\"],[1.0,\"#f0f921\"]]}],\"heatmapgl\":[{\"type\":\"heatmapgl\",\"colorbar\":{\"outlinewidth\":0,\"ticks\":\"\"},\"colorscale\":[[0.0,\"#0d0887\"],[0.1111111111111111,\"#46039f\"],[0.2222222222222222,\"#7201a8\"],[0.3333333333333333,\"#9c179e\"],[0.4444444444444444,\"#bd3786\"],[0.5555555555555556,\"#d8576b\"],[0.6666666666666666,\"#ed7953\"],[0.7777777777777778,\"#fb9f3a\"],[0.8888888888888888,\"#fdca26\"],[1.0,\"#f0f921\"]]}],\"contourcarpet\":[{\"type\":\"contourcarpet\",\"colorbar\":{\"outlinewidth\":0,\"ticks\":\"\"}}],\"contour\":[{\"type\":\"contour\",\"colorbar\":{\"outlinewidth\":0,\"ticks\":\"\"},\"colorscale\":[[0.0,\"#0d0887\"],[0.1111111111111111,\"#46039f\"],[0.2222222222222222,\"#7201a8\"],[0.3333333333333333,\"#9c179e\"],[0.4444444444444444,\"#bd3786\"],[0.5555555555555556,\"#d8576b\"],[0.6666666666666666,\"#ed7953\"],[0.7777777777777778,\"#fb9f3a\"],[0.8888888888888888,\"#fdca26\"],[1.0,\"#f0f921\"]]}],\"surface\":[{\"type\":\"surface\",\"colorbar\":{\"outlinewidth\":0,\"ticks\":\"\"},\"colorscale\":[[0.0,\"#0d0887\"],[0.1111111111111111,\"#46039f\"],[0.2222222222222222,\"#7201a8\"],[0.3333333333333333,\"#9c179e\"],[0.4444444444444444,\"#bd3786\"],[0.5555555555555556,\"#d8576b\"],[0.6666666666666666,\"#ed7953\"],[0.7777777777777778,\"#fb9f3a\"],[0.8888888888888888,\"#fdca26\"],[1.0,\"#f0f921\"]]}],\"mesh3d\":[{\"type\":\"mesh3d\",\"colorbar\":{\"outlinewidth\":0,\"ticks\":\"\"}}],\"scatter\":[{\"fillpattern\":{\"fillmode\":\"overlay\",\"size\":10,\"solidity\":0.2},\"type\":\"scatter\"}],\"parcoords\":[{\"type\":\"parcoords\",\"line\":{\"colorbar\":{\"outlinewidth\":0,\"ticks\":\"\"}}}],\"scatterpolargl\":[{\"type\":\"scatterpolargl\",\"marker\":{\"colorbar\":{\"outlinewidth\":0,\"ticks\":\"\"}}}],\"bar\":[{\"error_x\":{\"color\":\"#2a3f5f\"},\"error_y\":{\"color\":\"#2a3f5f\"},\"marker\":{\"line\":{\"color\":\"#E5ECF6\",\"width\":0.5},\"pattern\":{\"fillmode\":\"overlay\",\"size\":10,\"solidity\":0.2}},\"type\":\"bar\"}],\"scattergeo\":[{\"type\":\"scattergeo\",\"marker\":{\"colorbar\":{\"outlinewidth\":0,\"ticks\":\"\"}}}],\"scatterpolar\":[{\"type\":\"scatterpolar\",\"marker\":{\"colorbar\":{\"outlinewidth\":0,\"ticks\":\"\"}}}],\"histogram\":[{\"marker\":{\"pattern\":{\"fillmode\":\"overlay\",\"size\":10,\"solidity\":0.2}},\"type\":\"histogram\"}],\"scattergl\":[{\"type\":\"scattergl\",\"marker\":{\"colorbar\":{\"outlinewidth\":0,\"ticks\":\"\"}}}],\"scatter3d\":[{\"type\":\"scatter3d\",\"line\":{\"colorbar\":{\"outlinewidth\":0,\"ticks\":\"\"}},\"marker\":{\"colorbar\":{\"outlinewidth\":0,\"ticks\":\"\"}}}],\"scattermapbox\":[{\"type\":\"scattermapbox\",\"marker\":{\"colorbar\":{\"outlinewidth\":0,\"ticks\":\"\"}}}],\"scatterternary\":[{\"type\":\"scatterternary\",\"marker\":{\"colorbar\":{\"outlinewidth\":0,\"ticks\":\"\"}}}],\"scattercarpet\":[{\"type\":\"scattercarpet\",\"marker\":{\"colorbar\":{\"outlinewidth\":0,\"ticks\":\"\"}}}],\"carpet\":[{\"aaxis\":{\"endlinecolor\":\"#2a3f5f\",\"gridcolor\":\"white\",\"linecolor\":\"white\",\"minorgridcolor\":\"white\",\"startlinecolor\":\"#2a3f5f\"},\"baxis\":{\"endlinecolor\":\"#2a3f5f\",\"gridcolor\":\"white\",\"linecolor\":\"white\",\"minorgridcolor\":\"white\",\"startlinecolor\":\"#2a3f5f\"},\"type\":\"carpet\"}],\"table\":[{\"cells\":{\"fill\":{\"color\":\"#EBF0F8\"},\"line\":{\"color\":\"white\"}},\"header\":{\"fill\":{\"color\":\"#C8D4E3\"},\"line\":{\"color\":\"white\"}},\"type\":\"table\"}],\"barpolar\":[{\"marker\":{\"line\":{\"color\":\"#E5ECF6\",\"width\":0.5},\"pattern\":{\"fillmode\":\"overlay\",\"size\":10,\"solidity\":0.2}},\"type\":\"barpolar\"}],\"pie\":[{\"automargin\":true,\"type\":\"pie\"}]},\"layout\":{\"autotypenumbers\":\"strict\",\"colorway\":[\"#636efa\",\"#EF553B\",\"#00cc96\",\"#ab63fa\",\"#FFA15A\",\"#19d3f3\",\"#FF6692\",\"#B6E880\",\"#FF97FF\",\"#FECB52\"],\"font\":{\"color\":\"#2a3f5f\"},\"hovermode\":\"closest\",\"hoverlabel\":{\"align\":\"left\"},\"paper_bgcolor\":\"white\",\"plot_bgcolor\":\"#E5ECF6\",\"polar\":{\"bgcolor\":\"#E5ECF6\",\"angularaxis\":{\"gridcolor\":\"white\",\"linecolor\":\"white\",\"ticks\":\"\"},\"radialaxis\":{\"gridcolor\":\"white\",\"linecolor\":\"white\",\"ticks\":\"\"}},\"ternary\":{\"bgcolor\":\"#E5ECF6\",\"aaxis\":{\"gridcolor\":\"white\",\"linecolor\":\"white\",\"ticks\":\"\"},\"baxis\":{\"gridcolor\":\"white\",\"linecolor\":\"white\",\"ticks\":\"\"},\"caxis\":{\"gridcolor\":\"white\",\"linecolor\":\"white\",\"ticks\":\"\"}},\"coloraxis\":{\"colorbar\":{\"outlinewidth\":0,\"ticks\":\"\"}},\"colorscale\":{\"sequential\":[[0.0,\"#0d0887\"],[0.1111111111111111,\"#46039f\"],[0.2222222222222222,\"#7201a8\"],[0.3333333333333333,\"#9c179e\"],[0.4444444444444444,\"#bd3786\"],[0.5555555555555556,\"#d8576b\"],[0.6666666666666666,\"#ed7953\"],[0.7777777777777778,\"#fb9f3a\"],[0.8888888888888888,\"#fdca26\"],[1.0,\"#f0f921\"]],\"sequentialminus\":[[0.0,\"#0d0887\"],[0.1111111111111111,\"#46039f\"],[0.2222222222222222,\"#7201a8\"],[0.3333333333333333,\"#9c179e\"],[0.4444444444444444,\"#bd3786\"],[0.5555555555555556,\"#d8576b\"],[0.6666666666666666,\"#ed7953\"],[0.7777777777777778,\"#fb9f3a\"],[0.8888888888888888,\"#fdca26\"],[1.0,\"#f0f921\"]],\"diverging\":[[0,\"#8e0152\"],[0.1,\"#c51b7d\"],[0.2,\"#de77ae\"],[0.3,\"#f1b6da\"],[0.4,\"#fde0ef\"],[0.5,\"#f7f7f7\"],[0.6,\"#e6f5d0\"],[0.7,\"#b8e186\"],[0.8,\"#7fbc41\"],[0.9,\"#4d9221\"],[1,\"#276419\"]]},\"xaxis\":{\"gridcolor\":\"white\",\"linecolor\":\"white\",\"ticks\":\"\",\"title\":{\"standoff\":15},\"zerolinecolor\":\"white\",\"automargin\":true,\"zerolinewidth\":2},\"yaxis\":{\"gridcolor\":\"white\",\"linecolor\":\"white\",\"ticks\":\"\",\"title\":{\"standoff\":15},\"zerolinecolor\":\"white\",\"automargin\":true,\"zerolinewidth\":2},\"scene\":{\"xaxis\":{\"backgroundcolor\":\"#E5ECF6\",\"gridcolor\":\"white\",\"linecolor\":\"white\",\"showbackground\":true,\"ticks\":\"\",\"zerolinecolor\":\"white\",\"gridwidth\":2},\"yaxis\":{\"backgroundcolor\":\"#E5ECF6\",\"gridcolor\":\"white\",\"linecolor\":\"white\",\"showbackground\":true,\"ticks\":\"\",\"zerolinecolor\":\"white\",\"gridwidth\":2},\"zaxis\":{\"backgroundcolor\":\"#E5ECF6\",\"gridcolor\":\"white\",\"linecolor\":\"white\",\"showbackground\":true,\"ticks\":\"\",\"zerolinecolor\":\"white\",\"gridwidth\":2}},\"shapedefaults\":{\"line\":{\"color\":\"#2a3f5f\"}},\"annotationdefaults\":{\"arrowcolor\":\"#2a3f5f\",\"arrowhead\":0,\"arrowwidth\":1},\"geo\":{\"bgcolor\":\"white\",\"landcolor\":\"#E5ECF6\",\"subunitcolor\":\"white\",\"showland\":true,\"showlakes\":true,\"lakecolor\":\"white\"},\"title\":{\"x\":0.05},\"mapbox\":{\"style\":\"light\"}}},\"xaxis\":{\"anchor\":\"y\",\"domain\":[0.0,1.0],\"title\":{\"text\":\"Brand\"}},\"yaxis\":{\"anchor\":\"x\",\"domain\":[0.0,1.0],\"title\":{\"text\":\"Count\"}},\"legend\":{\"title\":{\"text\":\"Sentiment\"},\"tracegroupgap\":0,\"orientation\":\"h\",\"yanchor\":\"top\",\"y\":1.1,\"xanchor\":\"center\",\"x\":0.5},\"title\":{\"text\":\"Sentiment Distribution by Brand\"},\"barmode\":\"group\",\"bargap\":0.15,\"bargroupgap\":0.1,\"plot_bgcolor\":\"rgba(0,0,0,0)\",\"paper_bgcolor\":\"rgba(0,0,0,0)\"},                        {\"responsive\": true}                    ).then(function(){\n",
       "                            \n",
       "var gd = document.getElementById('734471c6-08a2-4c0f-af24-7881e825211b');\n",
       "var x = new MutationObserver(function (mutations, observer) {{\n",
       "        var display = window.getComputedStyle(gd).display;\n",
       "        if (!display || display === 'none') {{\n",
       "            console.log([gd, 'removed!']);\n",
       "            Plotly.purge(gd);\n",
       "            observer.disconnect();\n",
       "        }}\n",
       "}});\n",
       "\n",
       "// Listen for the removal of the full notebook cells\n",
       "var notebookContainer = gd.closest('#notebook-container');\n",
       "if (notebookContainer) {{\n",
       "    x.observe(notebookContainer, {childList: true});\n",
       "}}\n",
       "\n",
       "// Listen for the clearing of the current output cell\n",
       "var outputEl = gd.closest('.output');\n",
       "if (outputEl) {{\n",
       "    x.observe(outputEl, {childList: true});\n",
       "}}\n",
       "\n",
       "                        })                };                });            </script>        </div>"
      ]
     },
     "metadata": {},
     "output_type": "display_data"
    }
   ],
   "source": [
    "# Countplot of Sentiment distribution by Brand\n",
    "\n",
    "fig = px.histogram(df, x='Brand', color='Sentiment',\n",
    "                   title='Sentiment Distribution by Brand',\n",
    "                   labels={'Sentiment': 'Sentiment', 'count': 'Count'},\n",
    "                   category_orders={'Sentiment': ['positive', 'negative', 'neutral']},\n",
    "                   histfunc='count',\n",
    "                   barmode='group')\n",
    "\n",
    "\n",
    "fig.update_layout(\n",
    "    xaxis_title='Brand',\n",
    "    yaxis_title='Count',\n",
    "    legend_title='Sentiment',\n",
    "    legend=dict(orientation='h', yanchor='top', y=1.1, xanchor='center', x=0.5),\n",
    "    bargap=0.15,\n",
    "    bargroupgap=0.1,\n",
    "    plot_bgcolor='rgba(0,0,0,0)',\n",
    "    paper_bgcolor='rgba(0,0,0,0)',\n",
    ")\n",
    "\n",
    "fig.show()"
   ]
  },
  {
   "cell_type": "code",
   "execution_count": null,
   "id": "5b39ed17-2d9c-4a79-90bf-4814335102ec",
   "metadata": {},
   "outputs": [],
   "source": []
  }
 ],
 "metadata": {
  "kernelspec": {
   "display_name": "Python 3 (ipykernel)",
   "language": "python",
   "name": "python3"
  },
  "language_info": {
   "codemirror_mode": {
    "name": "ipython",
    "version": 3
   },
   "file_extension": ".py",
   "mimetype": "text/x-python",
   "name": "python",
   "nbconvert_exporter": "python",
   "pygments_lexer": "ipython3",
   "version": "3.11.7"
  },
  "widgets": {
   "application/vnd.jupyter.widget-state+json": {
    "state": {},
    "version_major": 2,
    "version_minor": 0
   }
  }
 },
 "nbformat": 4,
 "nbformat_minor": 5
}
